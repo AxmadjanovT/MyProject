{
 "cells": [
  {
   "cell_type": "markdown",
   "id": "6585caaf",
   "metadata": {},
   "source": [
    "# Проект: Статистический анализ данных"
   ]
  },
  {
   "cell_type": "markdown",
   "id": "8e2b856a",
   "metadata": {},
   "source": [
    "# Общая информация об анализируемом объекте"
   ]
  },
  {
   "cell_type": "markdown",
   "id": "baef6a29",
   "metadata": {},
   "source": [
    "Имеется сервис аренды самокатов GoFast, который предоставил данные о некоторых пользователях из нескольких городов, а также об их поездках. нужно проанализировать данные, проверить некоторые гипотезы, которые смогут помочь бизнесу вырасти\n",
    "\n",
    "Чтобы совершать поездки по городу, пользователи сервиса GoFast пользуются мобильным приложением. Сервисом можно пользоваться:\n",
    "- без подписки\n",
    "    - абонентская плата отсутствует;\n",
    "    - стоимость одной минуты поездки — 8 рублей;\n",
    "    - стоимость старта (начала поездки) — 50 рублей;\n",
    "- с подпиской Ultra\n",
    "    - абонентская плата — 199 рублей в месяц;\n",
    "    - стоимость одной минуты поездки — 6 рублей;\n",
    "    - стоимость старта — бесплатно."
   ]
  },
  {
   "cell_type": "markdown",
   "id": "3a4b5281",
   "metadata": {},
   "source": [
    "# План работы:\n",
    "\n",
    "1. Изучить данные\n",
    "2. Сделать предобработку данных\n",
    "3. Провести исследовательский анализ\n",
    "4. Проверить несколько гипотез\n",
    "5. Сделать общий вывод"
   ]
  },
  {
   "cell_type": "markdown",
   "id": "bb469801",
   "metadata": {},
   "source": [
    "Импортируем необходимые библиотеки"
   ]
  },
  {
   "cell_type": "code",
   "execution_count": 1,
   "id": "72576667",
   "metadata": {},
   "outputs": [],
   "source": [
    "import pandas as pd\n",
    "import numpy as np\n",
    "import matplotlib.pyplot as plt\n",
    "import scipy.stats as st\n",
    "import seaborn as sns\n",
    "\n",
    "%matplotlib inline"
   ]
  },
  {
   "cell_type": "markdown",
   "id": "c42cbe00",
   "metadata": {},
   "source": [
    "### Шаг 1. Загрузка данных"
   ]
  },
  {
   "cell_type": "markdown",
   "id": "c91673d7",
   "metadata": {},
   "source": [
    "#### Откроем данные"
   ]
  },
  {
   "cell_type": "code",
   "execution_count": 2,
   "id": "eff9f206",
   "metadata": {},
   "outputs": [],
   "source": [
    "try:\n",
    "    users_data = pd.read_csv('C:/Users/99893/yandex_practicum_course/statistical analysis 4 sprint/users_go.csv')\n",
    "    riders_data = pd.read_csv('C:/Users/99893/yandex_practicum_course/statistical analysis 4 sprint/rides_go.csv')\n",
    "    subscriptions_data = pd.read_csv('C:/Users/99893/yandex_practicum_course/statistical analysis 4 sprint/subscriptions_go.csv')\n",
    "except:\n",
    "    users_data = pd.read_csv('/datasets/users_go.csv')\n",
    "    riders_data = pd.read_csv('/datasets/rides_go.csv')\n",
    "    subscriptions_data = pd.read_csv('/datasets/subscriptions_go.csv')"
   ]
  },
  {
   "cell_type": "markdown",
   "id": "112eeefc",
   "metadata": {},
   "source": [
    "#### Выведем общую информацию"
   ]
  },
  {
   "cell_type": "markdown",
   "id": "f6cc222a",
   "metadata": {},
   "source": [
    "Первые 3 строки датафреймов:"
   ]
  },
  {
   "cell_type": "code",
   "execution_count": 3,
   "id": "1e955064",
   "metadata": {},
   "outputs": [
    {
     "data": {
      "text/html": [
       "<div>\n",
       "<style scoped>\n",
       "    .dataframe tbody tr th:only-of-type {\n",
       "        vertical-align: middle;\n",
       "    }\n",
       "\n",
       "    .dataframe tbody tr th {\n",
       "        vertical-align: top;\n",
       "    }\n",
       "\n",
       "    .dataframe thead th {\n",
       "        text-align: right;\n",
       "    }\n",
       "</style>\n",
       "<table border=\"1\" class=\"dataframe\">\n",
       "  <thead>\n",
       "    <tr style=\"text-align: right;\">\n",
       "      <th></th>\n",
       "      <th>user_id</th>\n",
       "      <th>name</th>\n",
       "      <th>age</th>\n",
       "      <th>city</th>\n",
       "      <th>subscription_type</th>\n",
       "    </tr>\n",
       "  </thead>\n",
       "  <tbody>\n",
       "    <tr>\n",
       "      <th>0</th>\n",
       "      <td>1</td>\n",
       "      <td>Кира</td>\n",
       "      <td>22</td>\n",
       "      <td>Тюмень</td>\n",
       "      <td>ultra</td>\n",
       "    </tr>\n",
       "    <tr>\n",
       "      <th>1</th>\n",
       "      <td>2</td>\n",
       "      <td>Станислав</td>\n",
       "      <td>31</td>\n",
       "      <td>Омск</td>\n",
       "      <td>ultra</td>\n",
       "    </tr>\n",
       "    <tr>\n",
       "      <th>2</th>\n",
       "      <td>3</td>\n",
       "      <td>Алексей</td>\n",
       "      <td>20</td>\n",
       "      <td>Москва</td>\n",
       "      <td>ultra</td>\n",
       "    </tr>\n",
       "  </tbody>\n",
       "</table>\n",
       "</div>"
      ],
      "text/plain": [
       "   user_id       name  age    city subscription_type\n",
       "0        1       Кира   22  Тюмень             ultra\n",
       "1        2  Станислав   31    Омск             ultra\n",
       "2        3    Алексей   20  Москва             ultra"
      ]
     },
     "execution_count": 3,
     "metadata": {},
     "output_type": "execute_result"
    }
   ],
   "source": [
    "users_data.head(3)"
   ]
  },
  {
   "cell_type": "code",
   "execution_count": 4,
   "id": "9fa4dd92",
   "metadata": {
    "scrolled": true
   },
   "outputs": [
    {
     "data": {
      "text/html": [
       "<div>\n",
       "<style scoped>\n",
       "    .dataframe tbody tr th:only-of-type {\n",
       "        vertical-align: middle;\n",
       "    }\n",
       "\n",
       "    .dataframe tbody tr th {\n",
       "        vertical-align: top;\n",
       "    }\n",
       "\n",
       "    .dataframe thead th {\n",
       "        text-align: right;\n",
       "    }\n",
       "</style>\n",
       "<table border=\"1\" class=\"dataframe\">\n",
       "  <thead>\n",
       "    <tr style=\"text-align: right;\">\n",
       "      <th></th>\n",
       "      <th>user_id</th>\n",
       "      <th>distance</th>\n",
       "      <th>duration</th>\n",
       "      <th>date</th>\n",
       "    </tr>\n",
       "  </thead>\n",
       "  <tbody>\n",
       "    <tr>\n",
       "      <th>0</th>\n",
       "      <td>1</td>\n",
       "      <td>4409.919140</td>\n",
       "      <td>25.599769</td>\n",
       "      <td>2021-01-01</td>\n",
       "    </tr>\n",
       "    <tr>\n",
       "      <th>1</th>\n",
       "      <td>1</td>\n",
       "      <td>2617.592153</td>\n",
       "      <td>15.816871</td>\n",
       "      <td>2021-01-18</td>\n",
       "    </tr>\n",
       "    <tr>\n",
       "      <th>2</th>\n",
       "      <td>1</td>\n",
       "      <td>754.159807</td>\n",
       "      <td>6.232113</td>\n",
       "      <td>2021-04-20</td>\n",
       "    </tr>\n",
       "  </tbody>\n",
       "</table>\n",
       "</div>"
      ],
      "text/plain": [
       "   user_id     distance   duration        date\n",
       "0        1  4409.919140  25.599769  2021-01-01\n",
       "1        1  2617.592153  15.816871  2021-01-18\n",
       "2        1   754.159807   6.232113  2021-04-20"
      ]
     },
     "execution_count": 4,
     "metadata": {},
     "output_type": "execute_result"
    }
   ],
   "source": [
    "riders_data.head(3)"
   ]
  },
  {
   "cell_type": "code",
   "execution_count": 5,
   "id": "b5762a3c",
   "metadata": {},
   "outputs": [
    {
     "data": {
      "text/html": [
       "<div>\n",
       "<style scoped>\n",
       "    .dataframe tbody tr th:only-of-type {\n",
       "        vertical-align: middle;\n",
       "    }\n",
       "\n",
       "    .dataframe tbody tr th {\n",
       "        vertical-align: top;\n",
       "    }\n",
       "\n",
       "    .dataframe thead th {\n",
       "        text-align: right;\n",
       "    }\n",
       "</style>\n",
       "<table border=\"1\" class=\"dataframe\">\n",
       "  <thead>\n",
       "    <tr style=\"text-align: right;\">\n",
       "      <th></th>\n",
       "      <th>subscription_type</th>\n",
       "      <th>minute_price</th>\n",
       "      <th>start_ride_price</th>\n",
       "      <th>subscription_fee</th>\n",
       "    </tr>\n",
       "  </thead>\n",
       "  <tbody>\n",
       "    <tr>\n",
       "      <th>0</th>\n",
       "      <td>free</td>\n",
       "      <td>8</td>\n",
       "      <td>50</td>\n",
       "      <td>0</td>\n",
       "    </tr>\n",
       "    <tr>\n",
       "      <th>1</th>\n",
       "      <td>ultra</td>\n",
       "      <td>6</td>\n",
       "      <td>0</td>\n",
       "      <td>199</td>\n",
       "    </tr>\n",
       "  </tbody>\n",
       "</table>\n",
       "</div>"
      ],
      "text/plain": [
       "  subscription_type  minute_price  start_ride_price  subscription_fee\n",
       "0              free             8                50                 0\n",
       "1             ultra             6                 0               199"
      ]
     },
     "execution_count": 5,
     "metadata": {},
     "output_type": "execute_result"
    }
   ],
   "source": [
    "subscriptions_data.head(3)"
   ]
  },
  {
   "cell_type": "markdown",
   "id": "ca2ff692",
   "metadata": {},
   "source": [
    "Общая информация:"
   ]
  },
  {
   "cell_type": "code",
   "execution_count": 6,
   "id": "500dedaf",
   "metadata": {},
   "outputs": [
    {
     "name": "stdout",
     "output_type": "stream",
     "text": [
      "<class 'pandas.core.frame.DataFrame'>\n",
      "RangeIndex: 1565 entries, 0 to 1564\n",
      "Data columns (total 5 columns):\n",
      " #   Column             Non-Null Count  Dtype \n",
      "---  ------             --------------  ----- \n",
      " 0   user_id            1565 non-null   int64 \n",
      " 1   name               1565 non-null   object\n",
      " 2   age                1565 non-null   int64 \n",
      " 3   city               1565 non-null   object\n",
      " 4   subscription_type  1565 non-null   object\n",
      "dtypes: int64(2), object(3)\n",
      "memory usage: 61.3+ KB\n"
     ]
    }
   ],
   "source": [
    "users_data.info()"
   ]
  },
  {
   "cell_type": "code",
   "execution_count": 7,
   "id": "e95f435f",
   "metadata": {},
   "outputs": [
    {
     "name": "stdout",
     "output_type": "stream",
     "text": [
      "<class 'pandas.core.frame.DataFrame'>\n",
      "RangeIndex: 18068 entries, 0 to 18067\n",
      "Data columns (total 4 columns):\n",
      " #   Column    Non-Null Count  Dtype  \n",
      "---  ------    --------------  -----  \n",
      " 0   user_id   18068 non-null  int64  \n",
      " 1   distance  18068 non-null  float64\n",
      " 2   duration  18068 non-null  float64\n",
      " 3   date      18068 non-null  object \n",
      "dtypes: float64(2), int64(1), object(1)\n",
      "memory usage: 564.8+ KB\n"
     ]
    }
   ],
   "source": [
    "riders_data.info()"
   ]
  },
  {
   "cell_type": "code",
   "execution_count": 8,
   "id": "3504d11c",
   "metadata": {
    "scrolled": true
   },
   "outputs": [
    {
     "name": "stdout",
     "output_type": "stream",
     "text": [
      "<class 'pandas.core.frame.DataFrame'>\n",
      "RangeIndex: 2 entries, 0 to 1\n",
      "Data columns (total 4 columns):\n",
      " #   Column             Non-Null Count  Dtype \n",
      "---  ------             --------------  ----- \n",
      " 0   subscription_type  2 non-null      object\n",
      " 1   minute_price       2 non-null      int64 \n",
      " 2   start_ride_price   2 non-null      int64 \n",
      " 3   subscription_fee   2 non-null      int64 \n",
      "dtypes: int64(3), object(1)\n",
      "memory usage: 192.0+ bytes\n"
     ]
    }
   ],
   "source": [
    "subscriptions_data.info()"
   ]
  },
  {
   "cell_type": "markdown",
   "id": "bd783232",
   "metadata": {},
   "source": [
    "**Вывод:**\n",
    "\n",
    "Размеры датафреймов:\n",
    "- users_data (1565, 5)\n",
    "- riders_data (18068, 4)\n",
    "- subscriptions_data (2, 4)"
   ]
  },
  {
   "cell_type": "markdown",
   "id": "e95ebca7",
   "metadata": {},
   "source": [
    "### Шаг 2. Предобработка данных"
   ]
  },
  {
   "cell_type": "markdown",
   "id": "00bb549d",
   "metadata": {},
   "source": [
    "#### Заменим тип данных"
   ]
  },
  {
   "cell_type": "code",
   "execution_count": 9,
   "id": "ac97ed36",
   "metadata": {},
   "outputs": [],
   "source": [
    "riders_data['date'] = pd.to_datetime(riders_data['date'], format='%Y-%m-%d')"
   ]
  },
  {
   "cell_type": "markdown",
   "id": "e5d095f7",
   "metadata": {},
   "source": [
    "#### Заполним пропуски, если они имеются"
   ]
  },
  {
   "cell_type": "code",
   "execution_count": 10,
   "id": "af6d202c",
   "metadata": {
    "scrolled": true
   },
   "outputs": [
    {
     "data": {
      "text/plain": [
       "user_id              0\n",
       "name                 0\n",
       "age                  0\n",
       "city                 0\n",
       "subscription_type    0\n",
       "dtype: int64"
      ]
     },
     "execution_count": 10,
     "metadata": {},
     "output_type": "execute_result"
    }
   ],
   "source": [
    "users_data.isna().sum()"
   ]
  },
  {
   "cell_type": "code",
   "execution_count": 11,
   "id": "725d0fb1",
   "metadata": {},
   "outputs": [
    {
     "data": {
      "text/plain": [
       "user_id     0\n",
       "distance    0\n",
       "duration    0\n",
       "date        0\n",
       "dtype: int64"
      ]
     },
     "execution_count": 11,
     "metadata": {},
     "output_type": "execute_result"
    }
   ],
   "source": [
    "riders_data.isna().sum()"
   ]
  },
  {
   "cell_type": "code",
   "execution_count": 12,
   "id": "4adfe1c8",
   "metadata": {},
   "outputs": [
    {
     "data": {
      "text/plain": [
       "subscription_type    0\n",
       "minute_price         0\n",
       "start_ride_price     0\n",
       "subscription_fee     0\n",
       "dtype: int64"
      ]
     },
     "execution_count": 12,
     "metadata": {},
     "output_type": "execute_result"
    }
   ],
   "source": [
    "subscriptions_data.isna().sum()"
   ]
  },
  {
   "cell_type": "markdown",
   "id": "9f936133",
   "metadata": {},
   "source": [
    "#### Обработаем дубликаты"
   ]
  },
  {
   "cell_type": "code",
   "execution_count": 13,
   "id": "c25f6466",
   "metadata": {},
   "outputs": [
    {
     "data": {
      "text/plain": [
       "31"
      ]
     },
     "execution_count": 13,
     "metadata": {},
     "output_type": "execute_result"
    }
   ],
   "source": [
    "users_data.duplicated().sum()"
   ]
  },
  {
   "cell_type": "code",
   "execution_count": 14,
   "id": "cac5b00d",
   "metadata": {},
   "outputs": [
    {
     "data": {
      "text/plain": [
       "0"
      ]
     },
     "execution_count": 14,
     "metadata": {},
     "output_type": "execute_result"
    }
   ],
   "source": [
    "users_data.drop_duplicates(inplace=True)\n",
    "users_data.duplicated().sum()"
   ]
  },
  {
   "cell_type": "code",
   "execution_count": 15,
   "id": "b2605f0c",
   "metadata": {
    "scrolled": true
   },
   "outputs": [
    {
     "data": {
      "text/plain": [
       "array(['Тюмень', 'Омск', 'Москва', 'Ростов-на-Дону', 'Краснодар',\n",
       "       'Пятигорск', 'Екатеринбург', 'Сочи'], dtype=object)"
      ]
     },
     "execution_count": 15,
     "metadata": {},
     "output_type": "execute_result"
    }
   ],
   "source": [
    "users_data['city'].unique()"
   ]
  },
  {
   "cell_type": "code",
   "execution_count": 16,
   "id": "fdfa4f08",
   "metadata": {},
   "outputs": [
    {
     "data": {
      "text/plain": [
       "array(['ultra', 'free'], dtype=object)"
      ]
     },
     "execution_count": 16,
     "metadata": {},
     "output_type": "execute_result"
    }
   ],
   "source": [
    "users_data['subscription_type'].unique()"
   ]
  },
  {
   "cell_type": "code",
   "execution_count": 17,
   "id": "998c8350",
   "metadata": {},
   "outputs": [
    {
     "data": {
      "text/plain": [
       "0"
      ]
     },
     "execution_count": 17,
     "metadata": {},
     "output_type": "execute_result"
    }
   ],
   "source": [
    "riders_data.duplicated().sum()"
   ]
  },
  {
   "cell_type": "markdown",
   "id": "b58a462c",
   "metadata": {},
   "source": [
    "#### Добавим столбцы с годом, номерами месяца и дня недели"
   ]
  },
  {
   "cell_type": "code",
   "execution_count": 18,
   "id": "3d958dc3",
   "metadata": {},
   "outputs": [],
   "source": [
    "riders_data['year'] = riders_data['date'].dt.year\n",
    "riders_data['month'] = riders_data['date'].dt.month\n",
    "riders_data['weekday'] = riders_data['date'].dt.weekday"
   ]
  },
  {
   "cell_type": "code",
   "execution_count": 19,
   "id": "f6c70a69",
   "metadata": {
    "scrolled": true
   },
   "outputs": [
    {
     "data": {
      "text/plain": [
       "year\n",
       "2021    12\n",
       "Name: month, dtype: int64"
      ]
     },
     "execution_count": 19,
     "metadata": {},
     "output_type": "execute_result"
    }
   ],
   "source": [
    "riders_data.groupby('year')['month'].nunique()"
   ]
  },
  {
   "cell_type": "code",
   "execution_count": 20,
   "id": "d6946e70",
   "metadata": {},
   "outputs": [
    {
     "data": {
      "text/plain": [
       "Timestamp('2021-01-01 00:00:00')"
      ]
     },
     "execution_count": 20,
     "metadata": {},
     "output_type": "execute_result"
    }
   ],
   "source": [
    "riders_data['date'].min()"
   ]
  },
  {
   "cell_type": "code",
   "execution_count": 21,
   "id": "ca90b4fc",
   "metadata": {},
   "outputs": [
    {
     "data": {
      "text/plain": [
       "Timestamp('2021-12-30 00:00:00')"
      ]
     },
     "execution_count": 21,
     "metadata": {},
     "output_type": "execute_result"
    }
   ],
   "source": [
    "riders_data['date'].max()"
   ]
  },
  {
   "cell_type": "code",
   "execution_count": 22,
   "id": "262b7c15",
   "metadata": {},
   "outputs": [
    {
     "data": {
      "text/plain": [
       "Timedelta('363 days 00:00:00')"
      ]
     },
     "execution_count": 22,
     "metadata": {},
     "output_type": "execute_result"
    }
   ],
   "source": [
    "riders_data['date'].max() - riders_data['date'].min()"
   ]
  },
  {
   "cell_type": "markdown",
   "id": "ccc06af1",
   "metadata": {},
   "source": [
    "**Вывод:**\n",
    "\n",
    "- Изменение типа данных потребовалось только для столбца с датой (`date` из датафрейма с поездками `riders_data`)\n",
    "- Пропусков не обнаружено\n",
    "- Обнаружен 31 дубликат в датафрейме `users_data` (данные о пользователях)\n",
    "\n",
    "Имеется информация за 2021 год (363 дня)"
   ]
  },
  {
   "cell_type": "markdown",
   "id": "212593c7",
   "metadata": {},
   "source": [
    "### Шаг 3. Исследовательский анализ данных"
   ]
  },
  {
   "cell_type": "markdown",
   "id": "58d1a8d1",
   "metadata": {},
   "source": [
    "#### Частота встречаемости городов"
   ]
  },
  {
   "cell_type": "code",
   "execution_count": 23,
   "id": "bd854a42",
   "metadata": {},
   "outputs": [
    {
     "data": {
      "text/plain": [
       "Пятигорск         219\n",
       "Екатеринбург      204\n",
       "Ростов-на-Дону    198\n",
       "Краснодар         193\n",
       "Сочи              189\n",
       "Омск              183\n",
       "Тюмень            180\n",
       "Москва            168\n",
       "Name: city, dtype: int64"
      ]
     },
     "execution_count": 23,
     "metadata": {},
     "output_type": "execute_result"
    }
   ],
   "source": [
    "users_data['city'].value_counts()"
   ]
  },
  {
   "cell_type": "code",
   "execution_count": 24,
   "id": "1020e221",
   "metadata": {},
   "outputs": [
    {
     "data": {
      "image/png": "[encoded data removed]",
      "text/plain": [
       "<Figure size 1080x216 with 1 Axes>"
      ]
     },
     "metadata": {
      "needs_background": "light"
     },
     "output_type": "display_data"
    }
   ],
   "source": [
    "plt.figure(figsize=(15, 3))\n",
    "sns.set_style('darkgrid', rc={'grid.color': '#ababab'})\n",
    "sns.countplot(y='city',\n",
    "              data=users_data,\n",
    "              order=users_data['city'].value_counts().index,\n",
    "              color='#01e6ff')\n",
    "plt.title('График частоты встречаемости городов', fontsize=15)\n",
    "plt.xlabel('Количество городов', fontsize=12)\n",
    "plt.ylabel('Название города', fontsize=12);"
   ]
  },
  {
   "cell_type": "markdown",
   "id": "eb140cd2",
   "metadata": {},
   "source": [
    "Больше всего пользователей сервиса GoFast в Пятигорске (219 пользователей) и меньше всего в Москве (168 пользователей)"
   ]
  },
  {
   "cell_type": "markdown",
   "id": "5af1bc9f",
   "metadata": {},
   "source": [
    "#### Cоотношение пользователей с подпиской и без подписки"
   ]
  },
  {
   "cell_type": "code",
   "execution_count": 25,
   "id": "45f653c7",
   "metadata": {},
   "outputs": [
    {
     "data": {
      "text/plain": [
       "free     835\n",
       "ultra    699\n",
       "Name: subscription_type, dtype: int64"
      ]
     },
     "execution_count": 25,
     "metadata": {},
     "output_type": "execute_result"
    }
   ],
   "source": [
    "users_data['subscription_type'].value_counts()"
   ]
  },
  {
   "cell_type": "code",
   "execution_count": 26,
   "id": "e70b3acd",
   "metadata": {
    "scrolled": true
   },
   "outputs": [
    {
     "data": {
      "image/png": "[encoded data removed]",
      "text/plain": [
       "<Figure size 720x216 with 2 Axes>"
      ]
     },
     "metadata": {},
     "output_type": "display_data"
    }
   ],
   "source": [
    "plt.figure(figsize=(10, 3))\n",
    "sns.set_context('notebook', rc={'xtick.labelsize': 8, 'ytick.labelsize': 8})\n",
    "\n",
    "plt.subplot(121)\n",
    "sns.countplot(x='subscription_type',\n",
    "              data=users_data,\n",
    "              color='#01e6ff')\n",
    "plt.title('Количество поьзователей с подпиской и без', fontsize=10)\n",
    "plt.xlabel('Тип подписки', fontsize=9)\n",
    "plt.ylabel('Количество пользователей', fontsize=9);\n",
    "\n",
    "plt.subplot(122)\n",
    "plt.pie(users_data['subscription_type'].value_counts(),\n",
    "        colors=['#00d1e8', '#ababab'],\n",
    "        labels=users_data['subscription_type'].value_counts().index,\n",
    "        autopct='%.1f%%')\n",
    "plt.title('В процентном соотношении', fontsize=10);"
   ]
  },
  {
   "cell_type": "markdown",
   "id": "af0bfb0f",
   "metadata": {},
   "source": [
    "Пользователей с подписками чуть меньше, чем пользователей без подписки"
   ]
  },
  {
   "cell_type": "markdown",
   "id": "96f642a6",
   "metadata": {},
   "source": [
    "#### Исследуем возраст пользователей"
   ]
  },
  {
   "cell_type": "code",
   "execution_count": 27,
   "id": "f7df96c0",
   "metadata": {},
   "outputs": [
    {
     "data": {
      "image/png": "[encoded data removed]",
      "text/plain": [
       "<Figure size 1080x216 with 1 Axes>"
      ]
     },
     "metadata": {},
     "output_type": "display_data"
    }
   ],
   "source": [
    "plt.figure(figsize=(15, 3))\n",
    "sns.set_context('notebook', rc={'xtick.labelsize': 10, 'ytick.labelsize': 10})\n",
    "plt.hist(users_data['age'], bins=100, color='#00d1e8')\n",
    "plt.title('Распределение пользователей по возрасту', fontsize=15)\n",
    "plt.xlabel('Возраст', fontsize=12)\n",
    "plt.ylabel('Количество пользователей', fontsize=12);"
   ]
  },
  {
   "cell_type": "code",
   "execution_count": 28,
   "id": "9188c63c",
   "metadata": {},
   "outputs": [
    {
     "data": {
      "image/png": "[encoded data removed]",
      "text/plain": [
       "<Figure size 1080x216 with 1 Axes>"
      ]
     },
     "metadata": {},
     "output_type": "display_data"
    }
   ],
   "source": [
    "plt.figure(figsize=(15, 3))\n",
    "sns.boxplot(data=users_data, x='age', color='#01e6ff')\n",
    "plt.title('Диаграмма размаха (age)', fontsize=15);"
   ]
  },
  {
   "cell_type": "markdown",
   "id": "a0f9fb09",
   "metadata": {},
   "source": [
    "Среднее возраста:"
   ]
  },
  {
   "cell_type": "code",
   "execution_count": 29,
   "id": "3741cac3",
   "metadata": {
    "scrolled": true
   },
   "outputs": [
    {
     "data": {
      "text/plain": [
       "24.9"
      ]
     },
     "execution_count": 29,
     "metadata": {},
     "output_type": "execute_result"
    }
   ],
   "source": [
    "round(users_data['age'].mean(), 2)"
   ]
  },
  {
   "cell_type": "markdown",
   "id": "bf6f9ffd",
   "metadata": {},
   "source": [
    "Медиана возраста:"
   ]
  },
  {
   "cell_type": "code",
   "execution_count": 30,
   "id": "a6b89346",
   "metadata": {
    "scrolled": true
   },
   "outputs": [
    {
     "data": {
      "text/plain": [
       "25.0"
      ]
     },
     "execution_count": 30,
     "metadata": {},
     "output_type": "execute_result"
    }
   ],
   "source": [
    "round(users_data['age'].median(), 2)"
   ]
  },
  {
   "cell_type": "markdown",
   "id": "076ebea7",
   "metadata": {},
   "source": [
    "Мода возраста:"
   ]
  },
  {
   "cell_type": "code",
   "execution_count": 31,
   "id": "e73050e2",
   "metadata": {
    "scrolled": true
   },
   "outputs": [
    {
     "data": {
      "text/plain": [
       "25"
      ]
     },
     "execution_count": 31,
     "metadata": {},
     "output_type": "execute_result"
    }
   ],
   "source": [
    "users_data['age'].mode()[0]"
   ]
  },
  {
   "cell_type": "markdown",
   "id": "b614d931",
   "metadata": {},
   "source": [
    "Все меры центральной тенденции совпадают, значит дополнительно фильтровать данные от выбрасов нет смысла. Средний возраст пользователей сервиса GoFast - 25 лет"
   ]
  },
  {
   "cell_type": "code",
   "execution_count": 32,
   "id": "2d6d6a73",
   "metadata": {
    "scrolled": true
   },
   "outputs": [
    {
     "data": {
      "text/plain": [
       "<AxesSubplot:xlabel='city'>"
      ]
     },
     "execution_count": 32,
     "metadata": {},
     "output_type": "execute_result"
    },
    {
     "data": {
      "image/png": "[encoded data removed]",
      "text/plain": [
       "<Figure size 1080x216 with 1 Axes>"
      ]
     },
     "metadata": {},
     "output_type": "display_data"
    }
   ],
   "source": [
    "plt.figure(figsize=(15, 3))\n",
    "users_data.groupby('city')['age'].mean().plot(kind='line', style='o-')"
   ]
  },
  {
   "cell_type": "markdown",
   "id": "4a2b6ac7",
   "metadata": {},
   "source": [
    "В каждом из городов средний возраст составляет примерно 25 лет, нет сильных различий"
   ]
  },
  {
   "cell_type": "markdown",
   "id": "53d24b26",
   "metadata": {},
   "source": [
    "#### Исследуем расстояние, которое пользователь преодолел за одну поездку"
   ]
  },
  {
   "cell_type": "code",
   "execution_count": 33,
   "id": "c8ae5f8b",
   "metadata": {},
   "outputs": [
    {
     "data": {
      "image/png": "[encoded data removed]",
      "text/plain": [
       "<Figure size 1080x216 with 1 Axes>"
      ]
     },
     "metadata": {},
     "output_type": "display_data"
    }
   ],
   "source": [
    "plt.figure(figsize=(15, 3))\n",
    "riders_data['distance'].hist(bins=100, color='#00d1e8', edgecolor='#0060ff')\n",
    "plt.title('Распределение расстояния', fontsize=15)\n",
    "plt.xlabel('Расстояние, м', fontsize=12);"
   ]
  },
  {
   "cell_type": "code",
   "execution_count": 34,
   "id": "be511627",
   "metadata": {
    "scrolled": true
   },
   "outputs": [
    {
     "data": {
      "image/png": "[encoded data removed]",
      "text/plain": [
       "<Figure size 1080x216 with 1 Axes>"
      ]
     },
     "metadata": {},
     "output_type": "display_data"
    }
   ],
   "source": [
    "plt.figure(figsize=(15, 3))\n",
    "riders_data.groupby('user_id')['distance'].mean().hist(bins=100, color='#00d1e8', edgecolor='#0060ff')\n",
    "plt.title('Распределение среднего расстояния для каждого пользователя', fontsize=15)\n",
    "plt.xlabel('Расстояние, м', fontsize=12);"
   ]
  },
  {
   "cell_type": "code",
   "execution_count": 35,
   "id": "7bac0241",
   "metadata": {
    "scrolled": true
   },
   "outputs": [
    {
     "data": {
      "image/png": "[encoded data removed]",
      "text/plain": [
       "<Figure size 1080x216 with 1 Axes>"
      ]
     },
     "metadata": {},
     "output_type": "display_data"
    }
   ],
   "source": [
    "plt.figure(figsize=(15, 3))\n",
    "sns.boxplot(data=riders_data, x='distance', color='#01e6ff')\n",
    "plt.title('Диаграмма размаха (distance)', fontsize=15);"
   ]
  },
  {
   "cell_type": "code",
   "execution_count": 36,
   "id": "2333d60a",
   "metadata": {},
   "outputs": [
    {
     "data": {
      "image/png": "[encoded data removed]",
      "text/plain": [
       "<Figure size 1080x216 with 1 Axes>"
      ]
     },
     "metadata": {},
     "output_type": "display_data"
    }
   ],
   "source": [
    "plt.figure(figsize=(15, 3))\n",
    "riders_data['distance'].hist(range=(5000, 8000), bins=100, color='#00d1e8', edgecolor='#0060ff')\n",
    "plt.title('Распределение расстояния (5000-8000)', fontsize=15)\n",
    "plt.xlabel('Расстояние, м', fontsize=12);"
   ]
  },
  {
   "cell_type": "code",
   "execution_count": 37,
   "id": "40807069",
   "metadata": {
    "scrolled": true
   },
   "outputs": [
    {
     "data": {
      "image/png": "[encoded data removed]",
      "text/plain": [
       "<Figure size 1080x216 with 1 Axes>"
      ]
     },
     "metadata": {},
     "output_type": "display_data"
    }
   ],
   "source": [
    "plt.figure(figsize=(15, 3))\n",
    "riders_data['distance'].hist(range=(0, 2000), bins=100, color='#00d1e8', edgecolor='#0060ff')\n",
    "plt.title('Распределение расстояния (0-2000)', fontsize=15)\n",
    "plt.xlabel('Расстояние, м', fontsize=12);"
   ]
  },
  {
   "cell_type": "markdown",
   "id": "d356511b",
   "metadata": {},
   "source": [
    "Среднее и медиана"
   ]
  },
  {
   "cell_type": "code",
   "execution_count": 38,
   "id": "d36c9192",
   "metadata": {
    "scrolled": true
   },
   "outputs": [
    {
     "data": {
      "text/plain": [
       "3070.66"
      ]
     },
     "execution_count": 38,
     "metadata": {},
     "output_type": "execute_result"
    }
   ],
   "source": [
    "round(riders_data['distance'].mean(), 2)"
   ]
  },
  {
   "cell_type": "code",
   "execution_count": 39,
   "id": "275ded72",
   "metadata": {},
   "outputs": [
    {
     "data": {
      "text/plain": [
       "3133.61"
      ]
     },
     "execution_count": 39,
     "metadata": {},
     "output_type": "execute_result"
    }
   ],
   "source": [
    "round(riders_data['distance'].median(), 2)"
   ]
  },
  {
   "cell_type": "markdown",
   "id": "adef2ad9",
   "metadata": {},
   "source": [
    "Среднее средних расстояний каждого пользователя"
   ]
  },
  {
   "cell_type": "code",
   "execution_count": 40,
   "id": "6a6e4a61",
   "metadata": {
    "scrolled": true
   },
   "outputs": [
    {
     "data": {
      "text/plain": [
       "3077.3"
      ]
     },
     "execution_count": 40,
     "metadata": {},
     "output_type": "execute_result"
    }
   ],
   "source": [
    "round(riders_data.groupby('user_id')['distance'].mean().mean(), 2)"
   ]
  },
  {
   "cell_type": "code",
   "execution_count": 41,
   "id": "b03886e8",
   "metadata": {
    "scrolled": true
   },
   "outputs": [
    {
     "data": {
      "text/plain": [
       "count    18068.000000\n",
       "mean      3070.659976\n",
       "std       1116.831209\n",
       "min          0.855683\n",
       "25%       2543.226360\n",
       "50%       3133.609994\n",
       "75%       3776.222735\n",
       "max       7211.007745\n",
       "Name: distance, dtype: float64"
      ]
     },
     "execution_count": 41,
     "metadata": {},
     "output_type": "execute_result"
    }
   ],
   "source": [
    "riders_data['distance'].describe()"
   ]
  },
  {
   "cell_type": "markdown",
   "id": "1b845ea4",
   "metadata": {},
   "source": [
    "Распределение нормальное, среднее растояние поездки - 3070.66м, медиана - 3133.61м, среднее растояние, которое проехал пользователь 3077.3м. Имеются поездки меньше 1000м, можно предположить, что пользователи использует самокаты при любом удобном случае, например: доехать до ближайшего метро, доехать до магазина, и тд."
   ]
  },
  {
   "cell_type": "markdown",
   "id": "0f17ffad",
   "metadata": {},
   "source": [
    "#### Исследуем продолжительность поездок"
   ]
  },
  {
   "cell_type": "code",
   "execution_count": 42,
   "id": "19b9db8b",
   "metadata": {},
   "outputs": [
    {
     "data": {
      "image/png": "[encoded data removed]",
      "text/plain": [
       "<Figure size 1080x216 with 1 Axes>"
      ]
     },
     "metadata": {},
     "output_type": "display_data"
    }
   ],
   "source": [
    "plt.figure(figsize=(15, 3))\n",
    "riders_data['duration'].hist(bins=100, color='#00d1e8', edgecolor='#0060ff')\n",
    "plt.title('Распределение продолжительности поездки', fontsize=15)\n",
    "plt.xlabel('Время, мин.', fontsize=12);"
   ]
  },
  {
   "cell_type": "code",
   "execution_count": 43,
   "id": "19f951e0",
   "metadata": {
    "scrolled": true
   },
   "outputs": [
    {
     "data": {
      "image/png": "[encoded data removed]",
      "text/plain": [
       "<Figure size 1080x216 with 1 Axes>"
      ]
     },
     "metadata": {},
     "output_type": "display_data"
    }
   ],
   "source": [
    "plt.figure(figsize=(15, 3))\n",
    "sns.boxplot(data=riders_data, x='duration', color='#01e6ff')\n",
    "plt.title('Диаграмма размаха (duration)', fontsize=15);"
   ]
  },
  {
   "cell_type": "code",
   "execution_count": 44,
   "id": "e0723fed",
   "metadata": {
    "scrolled": true
   },
   "outputs": [
    {
     "data": {
      "image/png": "[encoded data removed]",
      "text/plain": [
       "<Figure size 1080x216 with 1 Axes>"
      ]
     },
     "metadata": {},
     "output_type": "display_data"
    }
   ],
   "source": [
    "plt.figure(figsize=(15, 3))\n",
    "riders_data['duration'].hist(range=(0, 10), bins=100, color='#00d1e8', edgecolor='#0060ff')\n",
    "plt.title('Распределение продолжительности поездки (0-10)', fontsize=15)\n",
    "plt.xlabel('Время, мин.', fontsize=12);"
   ]
  },
  {
   "cell_type": "code",
   "execution_count": 45,
   "id": "82ee3497",
   "metadata": {},
   "outputs": [
    {
     "data": {
      "image/png": "[encoded data removed]",
      "text/plain": [
       "<Figure size 1080x216 with 1 Axes>"
      ]
     },
     "metadata": {},
     "output_type": "display_data"
    }
   ],
   "source": [
    "plt.figure(figsize=(15, 3))\n",
    "riders_data['duration'].hist(range=(30, 45), bins=100, color='#00d1e8', edgecolor='#0060ff')\n",
    "plt.title('Распределение продолжительности поездки (30-45)', fontsize=15)\n",
    "plt.xlabel('Время, мин.', fontsize=12);"
   ]
  },
  {
   "cell_type": "code",
   "execution_count": 46,
   "id": "2cd0ed70",
   "metadata": {
    "scrolled": true
   },
   "outputs": [
    {
     "data": {
      "text/plain": [
       "count    18068.000000\n",
       "mean        17.805011\n",
       "std          6.091051\n",
       "min          0.500000\n",
       "25%         13.597563\n",
       "50%         17.678395\n",
       "75%         21.724800\n",
       "max         40.823963\n",
       "Name: duration, dtype: float64"
      ]
     },
     "execution_count": 46,
     "metadata": {},
     "output_type": "execute_result"
    }
   ],
   "source": [
    "riders_data['duration'].describe()"
   ]
  },
  {
   "cell_type": "markdown",
   "id": "b977559f",
   "metadata": {},
   "source": [
    "Среднее и медиана"
   ]
  },
  {
   "cell_type": "code",
   "execution_count": 47,
   "id": "76ea5e09",
   "metadata": {
    "scrolled": true
   },
   "outputs": [
    {
     "data": {
      "text/plain": [
       "17.81"
      ]
     },
     "execution_count": 47,
     "metadata": {},
     "output_type": "execute_result"
    }
   ],
   "source": [
    "round(riders_data['duration'].mean(), 2)"
   ]
  },
  {
   "cell_type": "code",
   "execution_count": 48,
   "id": "6b2466e7",
   "metadata": {},
   "outputs": [
    {
     "data": {
      "text/plain": [
       "17.68"
      ]
     },
     "execution_count": 48,
     "metadata": {},
     "output_type": "execute_result"
    }
   ],
   "source": [
    "round(riders_data['duration'].median(), 2)"
   ]
  },
  {
   "cell_type": "markdown",
   "id": "a7aea3d7",
   "metadata": {},
   "source": [
    "Среднее время поездки пользователя"
   ]
  },
  {
   "cell_type": "code",
   "execution_count": 49,
   "id": "143565f8",
   "metadata": {},
   "outputs": [
    {
     "data": {
      "text/plain": [
       "17.93"
      ]
     },
     "execution_count": 49,
     "metadata": {},
     "output_type": "execute_result"
    }
   ],
   "source": [
    "round(riders_data.groupby('user_id')['duration'].mean().mean(), 2)"
   ]
  },
  {
   "cell_type": "code",
   "execution_count": 50,
   "id": "2511fd6b",
   "metadata": {
    "scrolled": true
   },
   "outputs": [
    {
     "data": {
      "text/plain": [
       "0.5    95\n",
       "Name: duration, dtype: int64"
      ]
     },
     "execution_count": 50,
     "metadata": {},
     "output_type": "execute_result"
    }
   ],
   "source": [
    "riders_data.query('duration < 2')['duration'].value_counts()"
   ]
  },
  {
   "cell_type": "code",
   "execution_count": 51,
   "id": "e13735af",
   "metadata": {},
   "outputs": [
    {
     "data": {
      "text/plain": [
       "<AxesSubplot:>"
      ]
     },
     "execution_count": 51,
     "metadata": {},
     "output_type": "execute_result"
    },
    {
     "data": {
      "image/png": "[encoded data removed]",
      "text/plain": [
       "<Figure size 432x288 with 1 Axes>"
      ]
     },
     "metadata": {},
     "output_type": "display_data"
    }
   ],
   "source": [
    "riders_data.query('duration < 2')['distance'].hist(bins=50, color='#00d1e8', edgecolor='#0060ff')"
   ]
  },
  {
   "cell_type": "markdown",
   "id": "981bb16a",
   "metadata": {},
   "source": [
    "Распределение нормальное, имеется небольшой пик меньше минуты, при этом на диаграмме размаха отображено это как 1 точка, скорее всего, это какая то ошибка выгрузки данных, либо еще что-то. Среднее время поездки 17.81 минут"
   ]
  },
  {
   "cell_type": "markdown",
   "id": "bbeda137",
   "metadata": {},
   "source": [
    "**Вывод:**\n",
    "\n",
    "\n",
    "Больше всего пользователей сервиса GoFast в Пятигорске (219 пользователей) и меньше всего в Москве (168 пользователей)\n",
    "\n",
    "Соотношение пользователей с подпиской на GoFast и без:\n",
    "- Пользователей без подписки - 835 (54.4%)\n",
    "- Пользователей c подпиской - 699 (45.6%)\n",
    "\n",
    "Средний возраст пользователей сервиса GoFast составляет 25 лет\n",
    "\n",
    "Распределение расстояния поездки - нормальное, среднее растояние поездки - 3070.66м, медиана - 3133.61м, среднее растояние, которое проехал пользователь 3077.3м. Имеются поездки меньше 1000м, можно предположить, что пользователи использует самокаты при любом удобном случае, например: доехать до ближайшего метро, доехать до магазина, и тд.\n",
    "\n",
    "Среднее время поездки - 17.81 минуты, среднее время поездки пользователя 17.93 минут, медиана - 17.68, различие небольшое.\n",
    "В данных есть аномалия в видеде значения 0.5 минуты (95 таких значений), при том, что пройденное расстояние для этих значений 4000м и больше. Если максимальная скорость самоката 25 км/ч, то 4км он проедет примерно за 9.6 минуты, но никак не за 0.5. Скорее всего какой-то баг."
   ]
  },
  {
   "cell_type": "markdown",
   "id": "4ef51331",
   "metadata": {},
   "source": [
    "### Шаг 4. Объединение данных"
   ]
  },
  {
   "cell_type": "markdown",
   "id": "b3e1f57e",
   "metadata": {},
   "source": [
    "#### Объединим все данные в общий датафрейм"
   ]
  },
  {
   "cell_type": "markdown",
   "id": "83112a9b",
   "metadata": {},
   "source": [
    "Количество строк таблицы, которую будем мержить с другими:"
   ]
  },
  {
   "cell_type": "code",
   "execution_count": 52,
   "id": "9e5bc10e",
   "metadata": {},
   "outputs": [
    {
     "data": {
      "text/plain": [
       "18068"
      ]
     },
     "execution_count": 52,
     "metadata": {},
     "output_type": "execute_result"
    }
   ],
   "source": [
    "riders_data.shape[0]"
   ]
  },
  {
   "cell_type": "code",
   "execution_count": 53,
   "id": "52e46c16",
   "metadata": {},
   "outputs": [],
   "source": [
    "total_data = riders_data.merge(users_data, how='left', on='user_id') \\\n",
    "            .merge(subscriptions_data, how='left', on='subscription_type')"
   ]
  },
  {
   "cell_type": "code",
   "execution_count": 54,
   "id": "6e73a9b8",
   "metadata": {},
   "outputs": [
    {
     "data": {
      "text/html": [
       "<div>\n",
       "<style scoped>\n",
       "    .dataframe tbody tr th:only-of-type {\n",
       "        vertical-align: middle;\n",
       "    }\n",
       "\n",
       "    .dataframe tbody tr th {\n",
       "        vertical-align: top;\n",
       "    }\n",
       "\n",
       "    .dataframe thead th {\n",
       "        text-align: right;\n",
       "    }\n",
       "</style>\n",
       "<table border=\"1\" class=\"dataframe\">\n",
       "  <thead>\n",
       "    <tr style=\"text-align: right;\">\n",
       "      <th></th>\n",
       "      <th>user_id</th>\n",
       "      <th>distance</th>\n",
       "      <th>duration</th>\n",
       "      <th>date</th>\n",
       "      <th>year</th>\n",
       "      <th>month</th>\n",
       "      <th>weekday</th>\n",
       "      <th>name</th>\n",
       "      <th>age</th>\n",
       "      <th>city</th>\n",
       "      <th>subscription_type</th>\n",
       "      <th>minute_price</th>\n",
       "      <th>start_ride_price</th>\n",
       "      <th>subscription_fee</th>\n",
       "    </tr>\n",
       "  </thead>\n",
       "  <tbody>\n",
       "    <tr>\n",
       "      <th>0</th>\n",
       "      <td>1</td>\n",
       "      <td>4409.919140</td>\n",
       "      <td>25.599769</td>\n",
       "      <td>2021-01-01</td>\n",
       "      <td>2021</td>\n",
       "      <td>1</td>\n",
       "      <td>4</td>\n",
       "      <td>Кира</td>\n",
       "      <td>22</td>\n",
       "      <td>Тюмень</td>\n",
       "      <td>ultra</td>\n",
       "      <td>6</td>\n",
       "      <td>0</td>\n",
       "      <td>199</td>\n",
       "    </tr>\n",
       "    <tr>\n",
       "      <th>1</th>\n",
       "      <td>1</td>\n",
       "      <td>2617.592153</td>\n",
       "      <td>15.816871</td>\n",
       "      <td>2021-01-18</td>\n",
       "      <td>2021</td>\n",
       "      <td>1</td>\n",
       "      <td>0</td>\n",
       "      <td>Кира</td>\n",
       "      <td>22</td>\n",
       "      <td>Тюмень</td>\n",
       "      <td>ultra</td>\n",
       "      <td>6</td>\n",
       "      <td>0</td>\n",
       "      <td>199</td>\n",
       "    </tr>\n",
       "    <tr>\n",
       "      <th>2</th>\n",
       "      <td>1</td>\n",
       "      <td>754.159807</td>\n",
       "      <td>6.232113</td>\n",
       "      <td>2021-04-20</td>\n",
       "      <td>2021</td>\n",
       "      <td>4</td>\n",
       "      <td>1</td>\n",
       "      <td>Кира</td>\n",
       "      <td>22</td>\n",
       "      <td>Тюмень</td>\n",
       "      <td>ultra</td>\n",
       "      <td>6</td>\n",
       "      <td>0</td>\n",
       "      <td>199</td>\n",
       "    </tr>\n",
       "  </tbody>\n",
       "</table>\n",
       "</div>"
      ],
      "text/plain": [
       "   user_id     distance   duration       date  year  month  weekday  name  \\\n",
       "0        1  4409.919140  25.599769 2021-01-01  2021      1        4  Кира   \n",
       "1        1  2617.592153  15.816871 2021-01-18  2021      1        0  Кира   \n",
       "2        1   754.159807   6.232113 2021-04-20  2021      4        1  Кира   \n",
       "\n",
       "   age    city subscription_type  minute_price  start_ride_price  \\\n",
       "0   22  Тюмень             ultra             6                 0   \n",
       "1   22  Тюмень             ultra             6                 0   \n",
       "2   22  Тюмень             ultra             6                 0   \n",
       "\n",
       "   subscription_fee  \n",
       "0               199  \n",
       "1               199  \n",
       "2               199  "
      ]
     },
     "execution_count": 54,
     "metadata": {},
     "output_type": "execute_result"
    }
   ],
   "source": [
    "total_data.head(3)"
   ]
  },
  {
   "cell_type": "code",
   "execution_count": 55,
   "id": "5c34bac5",
   "metadata": {},
   "outputs": [
    {
     "data": {
      "text/plain": [
       "18068"
      ]
     },
     "execution_count": 55,
     "metadata": {},
     "output_type": "execute_result"
    }
   ],
   "source": [
    "total_data.shape[0]"
   ]
  },
  {
   "cell_type": "code",
   "execution_count": 56,
   "id": "04206fd3",
   "metadata": {},
   "outputs": [
    {
     "data": {
      "text/plain": [
       "user_id              0\n",
       "distance             0\n",
       "duration             0\n",
       "date                 0\n",
       "year                 0\n",
       "month                0\n",
       "weekday              0\n",
       "name                 0\n",
       "age                  0\n",
       "city                 0\n",
       "subscription_type    0\n",
       "minute_price         0\n",
       "start_ride_price     0\n",
       "subscription_fee     0\n",
       "dtype: int64"
      ]
     },
     "execution_count": 56,
     "metadata": {},
     "output_type": "execute_result"
    }
   ],
   "source": [
    "total_data.isna().sum()"
   ]
  },
  {
   "cell_type": "markdown",
   "id": "df991158",
   "metadata": {},
   "source": [
    "Соединение таблиц прошло успешно, количество строк не поменялось, пропусков нет"
   ]
  },
  {
   "cell_type": "markdown",
   "id": "21a81e27",
   "metadata": {},
   "source": [
    "#### Создадим датафреймы с подписками и без"
   ]
  },
  {
   "cell_type": "code",
   "execution_count": 57,
   "id": "45e887ed",
   "metadata": {},
   "outputs": [
    {
     "data": {
      "text/html": [
       "<div>\n",
       "<style scoped>\n",
       "    .dataframe tbody tr th:only-of-type {\n",
       "        vertical-align: middle;\n",
       "    }\n",
       "\n",
       "    .dataframe tbody tr th {\n",
       "        vertical-align: top;\n",
       "    }\n",
       "\n",
       "    .dataframe thead th {\n",
       "        text-align: right;\n",
       "    }\n",
       "</style>\n",
       "<table border=\"1\" class=\"dataframe\">\n",
       "  <thead>\n",
       "    <tr style=\"text-align: right;\">\n",
       "      <th></th>\n",
       "      <th>user_id</th>\n",
       "      <th>distance</th>\n",
       "      <th>duration</th>\n",
       "      <th>date</th>\n",
       "      <th>year</th>\n",
       "      <th>month</th>\n",
       "      <th>weekday</th>\n",
       "      <th>name</th>\n",
       "      <th>age</th>\n",
       "      <th>city</th>\n",
       "      <th>subscription_type</th>\n",
       "      <th>minute_price</th>\n",
       "      <th>start_ride_price</th>\n",
       "      <th>subscription_fee</th>\n",
       "    </tr>\n",
       "  </thead>\n",
       "  <tbody>\n",
       "    <tr>\n",
       "      <th>0</th>\n",
       "      <td>1</td>\n",
       "      <td>4409.919140</td>\n",
       "      <td>25.599769</td>\n",
       "      <td>2021-01-01</td>\n",
       "      <td>2021</td>\n",
       "      <td>1</td>\n",
       "      <td>4</td>\n",
       "      <td>Кира</td>\n",
       "      <td>22</td>\n",
       "      <td>Тюмень</td>\n",
       "      <td>ultra</td>\n",
       "      <td>6</td>\n",
       "      <td>0</td>\n",
       "      <td>199</td>\n",
       "    </tr>\n",
       "    <tr>\n",
       "      <th>1</th>\n",
       "      <td>1</td>\n",
       "      <td>2617.592153</td>\n",
       "      <td>15.816871</td>\n",
       "      <td>2021-01-18</td>\n",
       "      <td>2021</td>\n",
       "      <td>1</td>\n",
       "      <td>0</td>\n",
       "      <td>Кира</td>\n",
       "      <td>22</td>\n",
       "      <td>Тюмень</td>\n",
       "      <td>ultra</td>\n",
       "      <td>6</td>\n",
       "      <td>0</td>\n",
       "      <td>199</td>\n",
       "    </tr>\n",
       "    <tr>\n",
       "      <th>2</th>\n",
       "      <td>1</td>\n",
       "      <td>754.159807</td>\n",
       "      <td>6.232113</td>\n",
       "      <td>2021-04-20</td>\n",
       "      <td>2021</td>\n",
       "      <td>4</td>\n",
       "      <td>1</td>\n",
       "      <td>Кира</td>\n",
       "      <td>22</td>\n",
       "      <td>Тюмень</td>\n",
       "      <td>ultra</td>\n",
       "      <td>6</td>\n",
       "      <td>0</td>\n",
       "      <td>199</td>\n",
       "    </tr>\n",
       "  </tbody>\n",
       "</table>\n",
       "</div>"
      ],
      "text/plain": [
       "   user_id     distance   duration       date  year  month  weekday  name  \\\n",
       "0        1  4409.919140  25.599769 2021-01-01  2021      1        4  Кира   \n",
       "1        1  2617.592153  15.816871 2021-01-18  2021      1        0  Кира   \n",
       "2        1   754.159807   6.232113 2021-04-20  2021      4        1  Кира   \n",
       "\n",
       "   age    city subscription_type  minute_price  start_ride_price  \\\n",
       "0   22  Тюмень             ultra             6                 0   \n",
       "1   22  Тюмень             ultra             6                 0   \n",
       "2   22  Тюмень             ultra             6                 0   \n",
       "\n",
       "   subscription_fee  \n",
       "0               199  \n",
       "1               199  \n",
       "2               199  "
      ]
     },
     "execution_count": 57,
     "metadata": {},
     "output_type": "execute_result"
    }
   ],
   "source": [
    "data_sub = total_data.query('subscription_type == \"ultra\"')\n",
    "data_sub.head(3)"
   ]
  },
  {
   "cell_type": "code",
   "execution_count": 58,
   "id": "b30f7e14",
   "metadata": {},
   "outputs": [
    {
     "data": {
      "text/html": [
       "<div>\n",
       "<style scoped>\n",
       "    .dataframe tbody tr th:only-of-type {\n",
       "        vertical-align: middle;\n",
       "    }\n",
       "\n",
       "    .dataframe tbody tr th {\n",
       "        vertical-align: top;\n",
       "    }\n",
       "\n",
       "    .dataframe thead th {\n",
       "        text-align: right;\n",
       "    }\n",
       "</style>\n",
       "<table border=\"1\" class=\"dataframe\">\n",
       "  <thead>\n",
       "    <tr style=\"text-align: right;\">\n",
       "      <th></th>\n",
       "      <th>user_id</th>\n",
       "      <th>distance</th>\n",
       "      <th>duration</th>\n",
       "      <th>date</th>\n",
       "      <th>year</th>\n",
       "      <th>month</th>\n",
       "      <th>weekday</th>\n",
       "      <th>name</th>\n",
       "      <th>age</th>\n",
       "      <th>city</th>\n",
       "      <th>subscription_type</th>\n",
       "      <th>minute_price</th>\n",
       "      <th>start_ride_price</th>\n",
       "      <th>subscription_fee</th>\n",
       "    </tr>\n",
       "  </thead>\n",
       "  <tbody>\n",
       "    <tr>\n",
       "      <th>6500</th>\n",
       "      <td>700</td>\n",
       "      <td>2515.690719</td>\n",
       "      <td>14.944286</td>\n",
       "      <td>2021-01-02</td>\n",
       "      <td>2021</td>\n",
       "      <td>1</td>\n",
       "      <td>5</td>\n",
       "      <td>Айдар</td>\n",
       "      <td>22</td>\n",
       "      <td>Омск</td>\n",
       "      <td>free</td>\n",
       "      <td>8</td>\n",
       "      <td>50</td>\n",
       "      <td>0</td>\n",
       "    </tr>\n",
       "    <tr>\n",
       "      <th>6501</th>\n",
       "      <td>700</td>\n",
       "      <td>846.932642</td>\n",
       "      <td>16.234663</td>\n",
       "      <td>2021-02-01</td>\n",
       "      <td>2021</td>\n",
       "      <td>2</td>\n",
       "      <td>0</td>\n",
       "      <td>Айдар</td>\n",
       "      <td>22</td>\n",
       "      <td>Омск</td>\n",
       "      <td>free</td>\n",
       "      <td>8</td>\n",
       "      <td>50</td>\n",
       "      <td>0</td>\n",
       "    </tr>\n",
       "    <tr>\n",
       "      <th>6502</th>\n",
       "      <td>700</td>\n",
       "      <td>4004.434142</td>\n",
       "      <td>20.016628</td>\n",
       "      <td>2021-02-04</td>\n",
       "      <td>2021</td>\n",
       "      <td>2</td>\n",
       "      <td>3</td>\n",
       "      <td>Айдар</td>\n",
       "      <td>22</td>\n",
       "      <td>Омск</td>\n",
       "      <td>free</td>\n",
       "      <td>8</td>\n",
       "      <td>50</td>\n",
       "      <td>0</td>\n",
       "    </tr>\n",
       "  </tbody>\n",
       "</table>\n",
       "</div>"
      ],
      "text/plain": [
       "      user_id     distance   duration       date  year  month  weekday   name  \\\n",
       "6500      700  2515.690719  14.944286 2021-01-02  2021      1        5  Айдар   \n",
       "6501      700   846.932642  16.234663 2021-02-01  2021      2        0  Айдар   \n",
       "6502      700  4004.434142  20.016628 2021-02-04  2021      2        3  Айдар   \n",
       "\n",
       "      age  city subscription_type  minute_price  start_ride_price  \\\n",
       "6500   22  Омск              free             8                50   \n",
       "6501   22  Омск              free             8                50   \n",
       "6502   22  Омск              free             8                50   \n",
       "\n",
       "      subscription_fee  \n",
       "6500                 0  \n",
       "6501                 0  \n",
       "6502                 0  "
      ]
     },
     "execution_count": 58,
     "metadata": {},
     "output_type": "execute_result"
    }
   ],
   "source": [
    "data_without_sub = total_data.query('subscription_type == \"free\"')\n",
    "data_without_sub.head(3)"
   ]
  },
  {
   "cell_type": "code",
   "execution_count": 59,
   "id": "ad8bc600",
   "metadata": {
    "scrolled": true
   },
   "outputs": [
    {
     "data": {
      "text/plain": [
       "True"
      ]
     },
     "execution_count": 59,
     "metadata": {},
     "output_type": "execute_result"
    }
   ],
   "source": [
    "data_sub.shape[0] + data_without_sub.shape[0] == total_data.shape[0]"
   ]
  },
  {
   "cell_type": "markdown",
   "id": "d72f6d5b",
   "metadata": {},
   "source": [
    "#### Визуализируем время и расстояние поездок для пользователей с подпиской и без"
   ]
  },
  {
   "cell_type": "code",
   "execution_count": 60,
   "id": "cb825ae2",
   "metadata": {},
   "outputs": [
    {
     "data": {
      "text/plain": [
       "<matplotlib.legend.Legend at 0x7fcd0b2b5d90>"
      ]
     },
     "execution_count": 60,
     "metadata": {},
     "output_type": "execute_result"
    },
    {
     "data": {
      "image/png": "[encoded data removed]",
      "text/plain": [
       "<Figure size 1080x360 with 2 Axes>"
      ]
     },
     "metadata": {},
     "output_type": "display_data"
    }
   ],
   "source": [
    "bins_1 = np.linspace(0, 7500, 100)\n",
    "\n",
    "plt.figure(figsize=(15,5))\n",
    "sns.set_style('white')\n",
    "\n",
    "plt.subplot(121)\n",
    "plt.hist(data_sub['distance'], bins_1, alpha=0.5, label='С подпиской')\n",
    "plt.hist(data_without_sub['distance'], bins_1, alpha=0.5, label='Без подписки')\n",
    "plt.title('Распределение расстояния поездки по группам пользователей')\n",
    "plt.xlabel('Расстояние, м')\n",
    "plt.legend(loc='upper right')\n",
    "\n",
    "bins_2 = np.linspace(0, 45, 100)\n",
    "\n",
    "plt.subplot(122)\n",
    "plt.hist(data_sub['duration'], bins_2, alpha=0.5, label='С подпиской')\n",
    "plt.hist(data_without_sub['duration'], bins_2, alpha=0.5, label='Без подписки')\n",
    "plt.title('Распределение времени поездки по группам пользователей')\n",
    "plt.xlabel('Время, мин')\n",
    "plt.legend(loc='upper right')"
   ]
  },
  {
   "cell_type": "code",
   "execution_count": 61,
   "id": "abe83bce",
   "metadata": {},
   "outputs": [
    {
     "data": {
      "text/html": [
       "<div>\n",
       "<style scoped>\n",
       "    .dataframe tbody tr th:only-of-type {\n",
       "        vertical-align: middle;\n",
       "    }\n",
       "\n",
       "    .dataframe tbody tr th {\n",
       "        vertical-align: top;\n",
       "    }\n",
       "\n",
       "    .dataframe thead th {\n",
       "        text-align: right;\n",
       "    }\n",
       "</style>\n",
       "<table border=\"1\" class=\"dataframe\">\n",
       "  <thead>\n",
       "    <tr style=\"text-align: right;\">\n",
       "      <th></th>\n",
       "      <th>distance</th>\n",
       "      <th>duration</th>\n",
       "    </tr>\n",
       "  </thead>\n",
       "  <tbody>\n",
       "    <tr>\n",
       "      <th>count</th>\n",
       "      <td>6500.00</td>\n",
       "      <td>6500.00</td>\n",
       "    </tr>\n",
       "    <tr>\n",
       "      <th>mean</th>\n",
       "      <td>3115.45</td>\n",
       "      <td>18.54</td>\n",
       "    </tr>\n",
       "    <tr>\n",
       "      <th>std</th>\n",
       "      <td>836.90</td>\n",
       "      <td>5.57</td>\n",
       "    </tr>\n",
       "    <tr>\n",
       "      <th>min</th>\n",
       "      <td>244.21</td>\n",
       "      <td>3.76</td>\n",
       "    </tr>\n",
       "    <tr>\n",
       "      <th>25%</th>\n",
       "      <td>2785.44</td>\n",
       "      <td>14.52</td>\n",
       "    </tr>\n",
       "    <tr>\n",
       "      <th>50%</th>\n",
       "      <td>3148.64</td>\n",
       "      <td>18.18</td>\n",
       "    </tr>\n",
       "    <tr>\n",
       "      <th>75%</th>\n",
       "      <td>3560.57</td>\n",
       "      <td>21.88</td>\n",
       "    </tr>\n",
       "    <tr>\n",
       "      <th>max</th>\n",
       "      <td>5699.77</td>\n",
       "      <td>40.82</td>\n",
       "    </tr>\n",
       "  </tbody>\n",
       "</table>\n",
       "</div>"
      ],
      "text/plain": [
       "       distance  duration\n",
       "count   6500.00   6500.00\n",
       "mean    3115.45     18.54\n",
       "std      836.90      5.57\n",
       "min      244.21      3.76\n",
       "25%     2785.44     14.52\n",
       "50%     3148.64     18.18\n",
       "75%     3560.57     21.88\n",
       "max     5699.77     40.82"
      ]
     },
     "execution_count": 61,
     "metadata": {},
     "output_type": "execute_result"
    }
   ],
   "source": [
    "data_sub[['distance', 'duration']].describe().round(2)"
   ]
  },
  {
   "cell_type": "code",
   "execution_count": 62,
   "id": "c61f19f0",
   "metadata": {
    "scrolled": true
   },
   "outputs": [
    {
     "data": {
      "text/html": [
       "<div>\n",
       "<style scoped>\n",
       "    .dataframe tbody tr th:only-of-type {\n",
       "        vertical-align: middle;\n",
       "    }\n",
       "\n",
       "    .dataframe tbody tr th {\n",
       "        vertical-align: top;\n",
       "    }\n",
       "\n",
       "    .dataframe thead th {\n",
       "        text-align: right;\n",
       "    }\n",
       "</style>\n",
       "<table border=\"1\" class=\"dataframe\">\n",
       "  <thead>\n",
       "    <tr style=\"text-align: right;\">\n",
       "      <th></th>\n",
       "      <th>distance</th>\n",
       "      <th>duration</th>\n",
       "    </tr>\n",
       "  </thead>\n",
       "  <tbody>\n",
       "    <tr>\n",
       "      <th>count</th>\n",
       "      <td>11568.00</td>\n",
       "      <td>11568.00</td>\n",
       "    </tr>\n",
       "    <tr>\n",
       "      <th>mean</th>\n",
       "      <td>3045.50</td>\n",
       "      <td>17.39</td>\n",
       "    </tr>\n",
       "    <tr>\n",
       "      <th>std</th>\n",
       "      <td>1246.17</td>\n",
       "      <td>6.33</td>\n",
       "    </tr>\n",
       "    <tr>\n",
       "      <th>min</th>\n",
       "      <td>0.86</td>\n",
       "      <td>0.50</td>\n",
       "    </tr>\n",
       "    <tr>\n",
       "      <th>25%</th>\n",
       "      <td>2366.56</td>\n",
       "      <td>12.96</td>\n",
       "    </tr>\n",
       "    <tr>\n",
       "      <th>50%</th>\n",
       "      <td>3114.65</td>\n",
       "      <td>17.33</td>\n",
       "    </tr>\n",
       "    <tr>\n",
       "      <th>75%</th>\n",
       "      <td>3905.70</td>\n",
       "      <td>21.59</td>\n",
       "    </tr>\n",
       "    <tr>\n",
       "      <th>max</th>\n",
       "      <td>7211.01</td>\n",
       "      <td>34.95</td>\n",
       "    </tr>\n",
       "  </tbody>\n",
       "</table>\n",
       "</div>"
      ],
      "text/plain": [
       "       distance  duration\n",
       "count  11568.00  11568.00\n",
       "mean    3045.50     17.39\n",
       "std     1246.17      6.33\n",
       "min        0.86      0.50\n",
       "25%     2366.56     12.96\n",
       "50%     3114.65     17.33\n",
       "75%     3905.70     21.59\n",
       "max     7211.01     34.95"
      ]
     },
     "execution_count": 62,
     "metadata": {},
     "output_type": "execute_result"
    }
   ],
   "source": [
    "data_without_sub[['distance', 'duration']].describe().round(2)"
   ]
  },
  {
   "cell_type": "markdown",
   "id": "656165b6",
   "metadata": {},
   "source": [
    "Посмотрим как отличается количество поездок до 1000м"
   ]
  },
  {
   "cell_type": "code",
   "execution_count": 63,
   "id": "020e1370",
   "metadata": {
    "scrolled": true
   },
   "outputs": [
    {
     "data": {
      "text/plain": [
       "259"
      ]
     },
     "execution_count": 63,
     "metadata": {},
     "output_type": "execute_result"
    }
   ],
   "source": [
    "data_sub.query('distance < 1000').shape[0]"
   ]
  },
  {
   "cell_type": "code",
   "execution_count": 64,
   "id": "2614b2db",
   "metadata": {},
   "outputs": [
    {
     "data": {
      "text/plain": [
       "3.98"
      ]
     },
     "execution_count": 64,
     "metadata": {},
     "output_type": "execute_result"
    }
   ],
   "source": [
    "round(data_sub.query('distance < 1000').shape[0] / data_sub.shape[0] * 100, 2)"
   ]
  },
  {
   "cell_type": "code",
   "execution_count": 65,
   "id": "8096e3bf",
   "metadata": {},
   "outputs": [
    {
     "data": {
      "text/plain": [
       "1113"
      ]
     },
     "execution_count": 65,
     "metadata": {},
     "output_type": "execute_result"
    }
   ],
   "source": [
    "data_without_sub.query('distance < 1000').shape[0]"
   ]
  },
  {
   "cell_type": "code",
   "execution_count": 66,
   "id": "532d5881",
   "metadata": {},
   "outputs": [
    {
     "data": {
      "text/plain": [
       "9.62"
      ]
     },
     "execution_count": 66,
     "metadata": {},
     "output_type": "execute_result"
    }
   ],
   "source": [
    "round(data_without_sub.query('distance < 1000').shape[0] / data_without_sub.shape[0] * 100, 2)"
   ]
  },
  {
   "cell_type": "markdown",
   "id": "af3c8666",
   "metadata": {},
   "source": [
    "**Вывод:**\n",
    "\n",
    "Пользователи с подпиской:\n",
    "- Расстояние поездки\n",
    "    - Среднее: 3115.45 м.\n",
    "    - Медиана: 3148.64 м.\n",
    "    - Стандартное отклонение: 836.90 м.\n",
    "\n",
    "- Время поездки\n",
    "    - Среднее: 18.54 мин.\n",
    "    - Медиана: 18.18 мин.\n",
    "    - Стандартное отклонение: 5.57 мин.\n",
    "\n",
    "Пользователи без подписки:\n",
    "- Расстояние поездки\n",
    "    - Среднее: 3045.50 м.\n",
    "    - Медиана: 3114.65 м.\n",
    "    - Стандартное отклонение: 1246.17 м.\n",
    "    \n",
    "- Время поездки\n",
    "    - Среднее: 17.39 мин.\n",
    "    - Медиана: 17.33 мин.\n",
    "    - Стандартное отклонение: 6.33 м.\n",
    "\n",
    "По среднему расстоянию и медиане сильных отличий нет. А вот стандартое отклонение больше примерно на 400 у пользователей без подписки, это хорошо видно по гистограмме. Среднее и медиана времени поездки больше у пользователей с подпиской практически на минуту, стандартное отклонение примерно на 1 больше у пользователей без подписки. Т.е разброс данных больше у пользователей без подписки. Доля поездок меньше 1000 метров у пользователей с подпиской 4 процента, у пользователей без подписки 9.62 процента"
   ]
  },
  {
   "cell_type": "markdown",
   "id": "402d620f",
   "metadata": {},
   "source": [
    "### Шаг 5. Подсчёт выручки"
   ]
  },
  {
   "cell_type": "markdown",
   "id": "4a206f21",
   "metadata": {},
   "source": [
    "#### Создадим сводную таблицу, чтобы подсчитать выручку"
   ]
  },
  {
   "cell_type": "code",
   "execution_count": 67,
   "id": "f5610cd4",
   "metadata": {},
   "outputs": [
    {
     "data": {
      "text/html": [
       "<div>\n",
       "<style scoped>\n",
       "    .dataframe tbody tr th:only-of-type {\n",
       "        vertical-align: middle;\n",
       "    }\n",
       "\n",
       "    .dataframe tbody tr th {\n",
       "        vertical-align: top;\n",
       "    }\n",
       "\n",
       "    .dataframe thead th {\n",
       "        text-align: right;\n",
       "    }\n",
       "</style>\n",
       "<table border=\"1\" class=\"dataframe\">\n",
       "  <thead>\n",
       "    <tr style=\"text-align: right;\">\n",
       "      <th></th>\n",
       "      <th>user_id</th>\n",
       "      <th>distance</th>\n",
       "      <th>duration</th>\n",
       "      <th>date</th>\n",
       "      <th>year</th>\n",
       "      <th>month</th>\n",
       "      <th>weekday</th>\n",
       "      <th>name</th>\n",
       "      <th>age</th>\n",
       "      <th>city</th>\n",
       "      <th>subscription_type</th>\n",
       "      <th>minute_price</th>\n",
       "      <th>start_ride_price</th>\n",
       "      <th>subscription_fee</th>\n",
       "    </tr>\n",
       "  </thead>\n",
       "  <tbody>\n",
       "    <tr>\n",
       "      <th>0</th>\n",
       "      <td>1</td>\n",
       "      <td>4409.919140</td>\n",
       "      <td>26.0</td>\n",
       "      <td>2021-01-01</td>\n",
       "      <td>2021</td>\n",
       "      <td>1</td>\n",
       "      <td>4</td>\n",
       "      <td>Кира</td>\n",
       "      <td>22</td>\n",
       "      <td>Тюмень</td>\n",
       "      <td>ultra</td>\n",
       "      <td>6</td>\n",
       "      <td>0</td>\n",
       "      <td>199</td>\n",
       "    </tr>\n",
       "    <tr>\n",
       "      <th>1</th>\n",
       "      <td>1</td>\n",
       "      <td>2617.592153</td>\n",
       "      <td>16.0</td>\n",
       "      <td>2021-01-18</td>\n",
       "      <td>2021</td>\n",
       "      <td>1</td>\n",
       "      <td>0</td>\n",
       "      <td>Кира</td>\n",
       "      <td>22</td>\n",
       "      <td>Тюмень</td>\n",
       "      <td>ultra</td>\n",
       "      <td>6</td>\n",
       "      <td>0</td>\n",
       "      <td>199</td>\n",
       "    </tr>\n",
       "    <tr>\n",
       "      <th>2</th>\n",
       "      <td>1</td>\n",
       "      <td>754.159807</td>\n",
       "      <td>7.0</td>\n",
       "      <td>2021-04-20</td>\n",
       "      <td>2021</td>\n",
       "      <td>4</td>\n",
       "      <td>1</td>\n",
       "      <td>Кира</td>\n",
       "      <td>22</td>\n",
       "      <td>Тюмень</td>\n",
       "      <td>ultra</td>\n",
       "      <td>6</td>\n",
       "      <td>0</td>\n",
       "      <td>199</td>\n",
       "    </tr>\n",
       "  </tbody>\n",
       "</table>\n",
       "</div>"
      ],
      "text/plain": [
       "   user_id     distance  duration       date  year  month  weekday  name  age  \\\n",
       "0        1  4409.919140      26.0 2021-01-01  2021      1        4  Кира   22   \n",
       "1        1  2617.592153      16.0 2021-01-18  2021      1        0  Кира   22   \n",
       "2        1   754.159807       7.0 2021-04-20  2021      4        1  Кира   22   \n",
       "\n",
       "     city subscription_type  minute_price  start_ride_price  subscription_fee  \n",
       "0  Тюмень             ultra             6                 0               199  \n",
       "1  Тюмень             ultra             6                 0               199  \n",
       "2  Тюмень             ultra             6                 0               199  "
      ]
     },
     "execution_count": 67,
     "metadata": {},
     "output_type": "execute_result"
    }
   ],
   "source": [
    "total_data['duration'] = np.ceil(total_data['duration'])\n",
    "total_data.head(3)"
   ]
  },
  {
   "cell_type": "code",
   "execution_count": 68,
   "id": "263b5e60",
   "metadata": {},
   "outputs": [],
   "source": [
    "revenue_data = total_data.groupby(['month', 'user_id']).agg({'distance': 'sum', 'age': 'count', 'duration': 'sum'})"
   ]
  },
  {
   "cell_type": "code",
   "execution_count": 69,
   "id": "d66127af",
   "metadata": {},
   "outputs": [],
   "source": [
    "revenue_data.columns = ['total_distance', 'count_trips', 'total_duration']"
   ]
  },
  {
   "cell_type": "code",
   "execution_count": 70,
   "id": "a4929082",
   "metadata": {},
   "outputs": [],
   "source": [
    "revenue_data.reset_index(inplace=True)"
   ]
  },
  {
   "cell_type": "markdown",
   "id": "ca8169d5",
   "metadata": {},
   "source": [
    "#### Добавим столбец с помесячной выручкой, которую принес каждый пользователь"
   ]
  },
  {
   "cell_type": "code",
   "execution_count": 71,
   "id": "413f4a28",
   "metadata": {},
   "outputs": [],
   "source": [
    "revenue_data['revenue'] = 1\n",
    "revenue_data['subscription_type'] = 'one'"
   ]
  },
  {
   "cell_type": "code",
   "execution_count": 72,
   "id": "ca924e40",
   "metadata": {},
   "outputs": [],
   "source": [
    "revenue_data.loc[revenue_data['user_id'].isin(data_sub['user_id'].unique()), 'revenue'] = (\n",
    "    data_sub['start_ride_price'].unique()[0] * revenue_data['count_trips']\n",
    "    + data_sub['minute_price'].unique()[0] * revenue_data['total_duration']\n",
    "    + data_sub['subscription_fee'].unique()[0]\n",
    ")\n",
    "\n",
    "revenue_data.loc[revenue_data['user_id'].isin(data_without_sub['user_id'].unique()), 'revenue'] = (\n",
    "    data_without_sub['start_ride_price'].unique()[0] * revenue_data['count_trips']\n",
    "    + data_without_sub['minute_price'].unique()[0] * revenue_data['total_duration']\n",
    "    + data_without_sub['subscription_fee'].unique()[0]\n",
    ")\n",
    "\n",
    "revenue_data.loc[revenue_data['user_id'].isin(data_sub['user_id'].unique()), 'subscription_type'] = 'ultra'\n",
    "revenue_data.loc[revenue_data['user_id'].isin(data_without_sub['user_id'].unique()), 'subscription_type'] = 'free'"
   ]
  },
  {
   "cell_type": "code",
   "execution_count": 73,
   "id": "d2ef3f31",
   "metadata": {},
   "outputs": [
    {
     "data": {
      "text/html": [
       "<div>\n",
       "<style scoped>\n",
       "    .dataframe tbody tr th:only-of-type {\n",
       "        vertical-align: middle;\n",
       "    }\n",
       "\n",
       "    .dataframe tbody tr th {\n",
       "        vertical-align: top;\n",
       "    }\n",
       "\n",
       "    .dataframe thead th {\n",
       "        text-align: right;\n",
       "    }\n",
       "</style>\n",
       "<table border=\"1\" class=\"dataframe\">\n",
       "  <thead>\n",
       "    <tr style=\"text-align: right;\">\n",
       "      <th></th>\n",
       "      <th>month</th>\n",
       "      <th>user_id</th>\n",
       "      <th>total_distance</th>\n",
       "      <th>count_trips</th>\n",
       "      <th>total_duration</th>\n",
       "      <th>revenue</th>\n",
       "      <th>subscription_type</th>\n",
       "    </tr>\n",
       "  </thead>\n",
       "  <tbody>\n",
       "    <tr>\n",
       "      <th>0</th>\n",
       "      <td>1</td>\n",
       "      <td>1</td>\n",
       "      <td>7027.511294</td>\n",
       "      <td>2</td>\n",
       "      <td>42.0</td>\n",
       "      <td>451.0</td>\n",
       "      <td>ultra</td>\n",
       "    </tr>\n",
       "    <tr>\n",
       "      <th>1</th>\n",
       "      <td>1</td>\n",
       "      <td>3</td>\n",
       "      <td>3061.777147</td>\n",
       "      <td>1</td>\n",
       "      <td>13.0</td>\n",
       "      <td>277.0</td>\n",
       "      <td>ultra</td>\n",
       "    </tr>\n",
       "    <tr>\n",
       "      <th>2</th>\n",
       "      <td>1</td>\n",
       "      <td>5</td>\n",
       "      <td>3914.646990</td>\n",
       "      <td>1</td>\n",
       "      <td>13.0</td>\n",
       "      <td>277.0</td>\n",
       "      <td>ultra</td>\n",
       "    </tr>\n",
       "    <tr>\n",
       "      <th>3</th>\n",
       "      <td>1</td>\n",
       "      <td>7</td>\n",
       "      <td>6478.080979</td>\n",
       "      <td>2</td>\n",
       "      <td>28.0</td>\n",
       "      <td>367.0</td>\n",
       "      <td>ultra</td>\n",
       "    </tr>\n",
       "    <tr>\n",
       "      <th>4</th>\n",
       "      <td>1</td>\n",
       "      <td>12</td>\n",
       "      <td>3577.151148</td>\n",
       "      <td>1</td>\n",
       "      <td>33.0</td>\n",
       "      <td>397.0</td>\n",
       "      <td>ultra</td>\n",
       "    </tr>\n",
       "  </tbody>\n",
       "</table>\n",
       "</div>"
      ],
      "text/plain": [
       "   month  user_id  total_distance  count_trips  total_duration  revenue  \\\n",
       "0      1        1     7027.511294            2            42.0    451.0   \n",
       "1      1        3     3061.777147            1            13.0    277.0   \n",
       "2      1        5     3914.646990            1            13.0    277.0   \n",
       "3      1        7     6478.080979            2            28.0    367.0   \n",
       "4      1       12     3577.151148            1            33.0    397.0   \n",
       "\n",
       "  subscription_type  \n",
       "0             ultra  \n",
       "1             ultra  \n",
       "2             ultra  \n",
       "3             ultra  \n",
       "4             ultra  "
      ]
     },
     "execution_count": 73,
     "metadata": {},
     "output_type": "execute_result"
    }
   ],
   "source": [
    "revenue_data.head()"
   ]
  },
  {
   "cell_type": "markdown",
   "id": "41545ac0",
   "metadata": {},
   "source": [
    "### Шаг 6. Проверка гипотез"
   ]
  },
  {
   "cell_type": "markdown",
   "id": "3b632d26",
   "metadata": {},
   "source": [
    "#### Проверим гипотезу - больше ли длительность поездки у пользователей с подпиской "
   ]
  },
  {
   "cell_type": "markdown",
   "id": "a96a8bd8",
   "metadata": {},
   "source": [
    "H0 - длительность поездок у пользователей с подпиской и без равны\n",
    "\n",
    "Н1 - длительность поездок у пользователей с подпиской больше, чем у пользователей без подписки"
   ]
  },
  {
   "cell_type": "code",
   "execution_count": 74,
   "id": "54abc6ef",
   "metadata": {},
   "outputs": [],
   "source": [
    "alpha = 0.05"
   ]
  },
  {
   "cell_type": "code",
   "execution_count": 75,
   "id": "57be5ba2",
   "metadata": {},
   "outputs": [],
   "source": [
    "results = st.ttest_ind(data_sub['duration'],\n",
    "             data_without_sub['duration'],\n",
    "             alternative='greater')"
   ]
  },
  {
   "cell_type": "code",
   "execution_count": 76,
   "id": "e0e5b652",
   "metadata": {},
   "outputs": [
    {
     "name": "stdout",
     "output_type": "stream",
     "text": [
      "Значение p-value: 1.2804098316645618e-34\n",
      "Отвергаем нулевую гипотезу в пользу альтернативной\n"
     ]
    }
   ],
   "source": [
    "print(f'Значение p-value: {results.pvalue}')\n",
    "\n",
    "if results.pvalue < alpha:\n",
    "    print('Отвергаем нулевую гипотезу в пользу альтернативной')\n",
    "else:\n",
    "    print('Оснований отвергнуть нулевую гипотезу нет!')"
   ]
  },
  {
   "cell_type": "markdown",
   "id": "62a152d3",
   "metadata": {},
   "source": [
    "#### Проверим гипотезу - не превышает ли среднее расстояние одной поездки для пользователей с подпиской значение 3130 м"
   ]
  },
  {
   "cell_type": "markdown",
   "id": "e0fa62eb",
   "metadata": {},
   "source": [
    "H0 - среднее расстояние поездки пользователя с подпиской равно 3130м\n",
    "\n",
    "Н1 - среднее расстояние поездки пользователя с подпиской больше 3130м"
   ]
  },
  {
   "cell_type": "code",
   "execution_count": 77,
   "id": "d671c195",
   "metadata": {},
   "outputs": [],
   "source": [
    "alpha = 0.05\n",
    "distance = 3130"
   ]
  },
  {
   "cell_type": "code",
   "execution_count": 78,
   "id": "76ef81d2",
   "metadata": {},
   "outputs": [],
   "source": [
    "results = st.ttest_1samp(data_sub['distance'], distance, alternative='greater')"
   ]
  },
  {
   "cell_type": "code",
   "execution_count": 79,
   "id": "934af5fe",
   "metadata": {},
   "outputs": [
    {
     "name": "stdout",
     "output_type": "stream",
     "text": [
      "Значение p-value: 0.9195368847849785\n",
      "Оснований отвергнуть нулевую гипотезу нет!\n"
     ]
    }
   ],
   "source": [
    "print(f'Значение p-value: {results.pvalue}')\n",
    "\n",
    "if results.pvalue < alpha:\n",
    "    print('Отвергаем нулевую гипотезу')\n",
    "else:\n",
    "    print('Оснований отвергнуть нулевую гипотезу нет!')"
   ]
  },
  {
   "cell_type": "markdown",
   "id": "a6dfb5dc",
   "metadata": {},
   "source": [
    "#### Проверим гипотезу больше ли помесячная выручка для пользователей с подпиской"
   ]
  },
  {
   "cell_type": "markdown",
   "id": "c1964f1c",
   "metadata": {},
   "source": [
    "H0 - помесячные выручки равны для пользователей с подпиской и без\n",
    "\n",
    "Н1 - помесячные выручки для пользователей с подпиской больше, чем для пользователей без подписки"
   ]
  },
  {
   "cell_type": "markdown",
   "id": "fc9d0bca",
   "metadata": {},
   "source": [
    "Помесячная выручка от пользователей с подпиской на сервис GoFast"
   ]
  },
  {
   "cell_type": "code",
   "execution_count": 80,
   "id": "c8e7363a",
   "metadata": {
    "scrolled": true
   },
   "outputs": [
    {
     "data": {
      "text/plain": [
       "362.67"
      ]
     },
     "execution_count": 80,
     "metadata": {},
     "output_type": "execute_result"
    }
   ],
   "source": [
    "round(revenue_data.query('subscription_type == \"ultra\"').groupby('month')['revenue'].mean().mean(), 2)"
   ]
  },
  {
   "cell_type": "markdown",
   "id": "5a9e338c",
   "metadata": {},
   "source": [
    "Помесячная выручка от пользователей без подписки на сервис GoFast"
   ]
  },
  {
   "cell_type": "code",
   "execution_count": 81,
   "id": "d09c32d1",
   "metadata": {},
   "outputs": [
    {
     "data": {
      "text/plain": [
       "328.6"
      ]
     },
     "execution_count": 81,
     "metadata": {},
     "output_type": "execute_result"
    }
   ],
   "source": [
    "round(revenue_data.query('subscription_type == \"free\"').groupby('month')['revenue'].mean().mean(), 2)"
   ]
  },
  {
   "cell_type": "code",
   "execution_count": 82,
   "id": "2f00d196",
   "metadata": {},
   "outputs": [],
   "source": [
    "alpha = 0.05"
   ]
  },
  {
   "cell_type": "code",
   "execution_count": 83,
   "id": "c8274175",
   "metadata": {},
   "outputs": [],
   "source": [
    "results = st.ttest_ind(revenue_data.query('subscription_type == \"ultra\"')['revenue'],\n",
    "                      revenue_data.query('subscription_type == \"free\"')['revenue'],\n",
    "                      alternative='greater')"
   ]
  },
  {
   "cell_type": "code",
   "execution_count": 84,
   "id": "01953503",
   "metadata": {},
   "outputs": [
    {
     "name": "stdout",
     "output_type": "stream",
     "text": [
      "Значение p-value: 1.8850394384715216e-31\n",
      "Отвергаем нулевую гипотезу\n"
     ]
    }
   ],
   "source": [
    "print(f'Значение p-value: {results.pvalue}')\n",
    "\n",
    "if results.pvalue < alpha:\n",
    "    print('Отвергаем нулевую гипотезу')\n",
    "else:\n",
    "    print('Оснований отвергнуть нулевую гипотезу нет!')"
   ]
  },
  {
   "cell_type": "markdown",
   "id": "bc21a384",
   "metadata": {},
   "source": [
    "**6.4** Представьте такую ситуацию: техническая команда сервиса обновила сервера, с которыми взаимодействует мобильное приложение. Она надеется, что из-за этого количество обращений в техподдержку значимо снизилось. Некоторый файл содержит для каждого пользователя данные о количестве обращений до обновления и после него. Какой тест вам понадобился бы для проверки этой гипотезы?"
   ]
  },
  {
   "cell_type": "markdown",
   "id": "afbb13ab",
   "metadata": {},
   "source": [
    "```python\n",
    "st.ttest_rel('данные после обновления', 'данные до обновления', alternative='greater')\n",
    "```"
   ]
  },
  {
   "cell_type": "markdown",
   "id": "6fd1898a",
   "metadata": {},
   "source": [
    "### Вывод"
   ]
  },
  {
   "cell_type": "markdown",
   "id": "1b99ccba",
   "metadata": {},
   "source": [
    "**Предобработка данных**\n",
    "- Изменение типа данных потребовалось только для столбца с датой\n",
    "- Пропусков не обнаружено\n",
    "- Явных дубликатов было 31 (удалены)\n",
    "\n",
    "**Цели проекта**\n",
    "\n",
    "- Исследовательский анализ\n",
    "    \n",
    "    В ходе исследования данных были выявлены следующие особенности:\n",
    "   \n",
    "    - В Пятигорске больше всего пользователей сервиса GoFast (219)\n",
    "    - Москва остает от остальных городов по количеству пользователей (168)\n",
    "    - 835 пользователей с подпиской (54.4%)\n",
    "    - 699 пользователей без подписки (45.6%)\n",
    "    - Средний возраст пользователей составляет 25 лет\n",
    "    - Иногда пользователи проезжали менее 1000м (предположительно самокат использовался, чтобы добраться до каких-то ближайших мест: метро, магазин, остановка и тд)\n",
    "    - Среднее расстояние за одну поездку - 3070.66 м.\n",
    "    - Среднее время поездки - 17.81 минуты. \n",
    "    \n",
    "    В данных (`riders_data` - данные о поездках) по времени поездки есть аномалия в виде значения 0.5 минуты (95 таких значений), при том, что пройденное расстояние для этих значений 4000м и больше. Для 4000м минимальное время при максимальной скорости самоката (25 км/ч) составляет примерно 9.6 минут. За 30 секунд преодолеть такое расстояние невозможно на самокате.\n",
    "    \n",
    "Различия пользователей:\n",
    "    \n",
    "Пользователи с подпиской:\n",
    "- Расстояние поездки\n",
    "    - Среднее: 3115.45 м.\n",
    "    - Медиана: 3148.64 м.\n",
    "    - Стандартное отклонение: 836.90 м.\n",
    "\n",
    "- Время поездки\n",
    "    - Среднее: 18.54 мин.\n",
    "    - Медиана: 18.18 мин.\n",
    "    - Стандартное отклонение: 5.57 мин.\n",
    "\n",
    "Пользователи без подписки:\n",
    "- Расстояние поездки\n",
    "    - Среднее: 3045.50 м.\n",
    "    - Медиана: 3114.65 м.\n",
    "    - Стандартное отклонение: 1246.17 м.\n",
    "    \n",
    "- Время поездки\n",
    "    - Среднее: 17.39 мин.\n",
    "    - Медиана: 17.33 мин.\n",
    "    - Стандартное отклонение: 6.33 м.\n",
    "\n",
    "По среднему расстоянию и медиане сильных отличий нет. А вот стандартое отклонение больше примерно на 400 у пользователей без подписки. Среднее и медиана времени поездки больше у пользователей с подпиской практически на минуту, стандартное отклонение примерно на 1 больше у пользователей без подписки. Т.е разброс данных больше у пользователей без подписки. Доля поездок меньше 1000 метров у пользователей с подпиской 4 процента, у пользователей без подписки 9.62 процента\n",
    "\n",
    "- Проверка гипотез\n",
    "    - Гипотеза о том равна ли продолжительность поездки у пользователей с подпиской и без. Гипотеза была опровергнута в пользу пользователей с подпиской, у них продолжительность поездки больше.\n",
    "    - Гипотеза о том равно ли среднее расстояние поездки значению 3130. Гипотеза о равенстве не была отвергнута. Т. е. можно утверждать, что среднее расстояние точно не превышает оптимальное.\n",
    "    - Гипотеза о том равна ли помесячная выручка от пользователей с подпиской и пользователей без подписки. Гипотеза опровергнута средняя выручка от пользователей с подпиской больше 362.67 против 328.6.\n",
    "\n",
    "\n",
    "**Рекомендации**\n",
    "\n",
    "Разработчикам стоит проверить приложение, так как были обнаружены аномалии в данных по времени поездки. 95 наблюдений с значением 0.5 минуты, при это пройденное расстояние было больше 4000м\n",
    "\n",
    "Пользователи с подпиской выгоднее для сервиса в среднем продолжительность их поездок больше на минуту, выручка с каждого пользователя больше, но в сумме выручка будет больше у пользователей без подписок, так как их больше, поэтому стоит предпринять меры по увеличению количества пользователей с подпиской."
   ]
  },
  {
   "cell_type": "markdown",
   "id": "61213c5e",
   "metadata": {},
   "source": [
    "### Шаг 7. Распределения"
   ]
  },
  {
   "cell_type": "markdown",
   "id": "2f59bf51",
   "metadata": {},
   "source": [
    "#### Задача 7.1"
   ]
  },
  {
   "cell_type": "markdown",
   "id": "1447fa93",
   "metadata": {},
   "source": [
    "Отделу маркетинга GoFast поставили задачу: нужно провести акцию с раздачей промокодов на один бесплатный месяц подписки, в рамках которой как минимум 100 существующих клиентов должны продлить эту подписку. То есть по завершении периода действия подписки пользователь может либо отказаться от неё, либо продлить, совершив соответствующий платёж.\n",
    "\n",
    "Эта акция уже проводилась ранее и по итогу выяснилось, что после бесплатного пробного периода подписку продлевают 10 % пользователей. Выясните, какое минимальное количество промокодов нужно разослать, чтобы вероятность не выполнить план была примерно 5 %. Подберите параметры распределения, описывающего эту ситуацию, постройте график распределения и сформулируйте ответ на вопрос о количестве промокодов."
   ]
  },
  {
   "cell_type": "code",
   "execution_count": 85,
   "id": "3ef0306e",
   "metadata": {
    "scrolled": true
   },
   "outputs": [
    {
     "data": {
      "text/plain": [
       "1161"
      ]
     },
     "execution_count": 85,
     "metadata": {},
     "output_type": "execute_result"
    }
   ],
   "source": [
    "k = 99\n",
    "n_min = 99\n",
    "p = 0.1\n",
    "pval = 0.05\n",
    "result = st.binom.cdf(k, n_min, p)\n",
    "\n",
    "while result > pval:\n",
    "    n_min += 1\n",
    "    result = st.binom.cdf(k, n_min, p)\n",
    "n_min"
   ]
  },
  {
   "cell_type": "code",
   "execution_count": 86,
   "id": "8c2c4f91",
   "metadata": {},
   "outputs": [
    {
     "name": "stderr",
     "output_type": "stream",
     "text": [
      "/opt/conda/lib/python3.9/site-packages/scipy/stats/_discrete_distns.py:78: RuntimeWarning: divide by zero encountered in _binom_pdf\n",
      "  return _boost._binom_pdf(x, n, p)\n"
     ]
    },
    {
     "data": {
      "image/png": "[encoded data removed]",
      "text/plain": [
       "<Figure size 1080x216 with 1 Axes>"
      ]
     },
     "metadata": {},
     "output_type": "display_data"
    }
   ],
   "source": [
    "distr = []\n",
    "\n",
    "for k in range(0, n_min + 1):\n",
    "    current_value = st.binom.pmf(k, n_min, p)\n",
    "    distr.append(current_value)\n",
    "\n",
    "plt.figure(figsize=(15,3))\n",
    "sns.set_style('white')\n",
    "plt.bar(range(0, n_min + 1), distr, alpha=0.6, color='blue')\n",
    "plt.xlabel('Количество успехов')\n",
    "plt.ylabel('Вероятность')\n",
    "plt.title(f'Биномиальное распределение (n={n_min}, p={p})')\n",
    "plt.grid(True)"
   ]
  },
  {
   "cell_type": "markdown",
   "id": "980e9292",
   "metadata": {},
   "source": [
    "**Ответ:** Требуется минимум 1161 промокод, чтобы вероятность не выполнить план была 0.05\n",
    "\n"
   ]
  },
  {
   "cell_type": "markdown",
   "id": "bfe33f4a",
   "metadata": {},
   "source": [
    " #### Задача 7.2"
   ]
  },
  {
   "cell_type": "markdown",
   "id": "79cfa877",
   "metadata": {},
   "source": [
    "Отдел маркетинга рассылает клиентам push-уведомления в мобильном приложении. Клиенты могут открыть его или не открывать. Известно, что уведомления открывают около 40 % получивших клиентов. Отдел планирует разослать 1 млн уведомлений. С помощью аппроксимации постройте примерный график распределения и оцените вероятность того, что уведомление откроют не более \n",
    "399,5 тыс. пользователей."
   ]
  },
  {
   "cell_type": "code",
   "execution_count": 87,
   "id": "08346a55",
   "metadata": {},
   "outputs": [
    {
     "name": "stdout",
     "output_type": "stream",
     "text": [
      "Вероятность того, что уведомление откроют не более 399,5 тыс. пользователей: 0.15371708296369768\n"
     ]
    },
    {
     "data": {
      "image/png": "[encoded data removed]",
      "text/plain": [
       "<Figure size 720x432 with 1 Axes>"
      ]
     },
     "metadata": {},
     "output_type": "display_data"
    }
   ],
   "source": [
    "n = 1_000_000\n",
    "p = 0.4\n",
    "\n",
    "mu = n * p\n",
    "sigma = np.sqrt(n * p * (1 - p))\n",
    "\n",
    "distribution = st.norm(mu, sigma)\n",
    "\n",
    "print(f'Вероятность того, что уведомление откроют не более 399,5 тыс. пользователей: {distribution.cdf(399500)}')\n",
    "\n",
    "x = np.linspace(mu - 4*sigma, mu + 4*sigma, 1000)\n",
    "pdf = st.norm.pdf(x, mu, sigma)\n",
    "\n",
    "plt.figure(figsize=(10, 6))\n",
    "plt.plot(x, pdf)\n",
    "plt.fill_between(x, pdf, alpha=0.2, color='blue')\n",
    "plt.xlabel('Значение')\n",
    "plt.ylabel('Плотность вероятности')\n",
    "plt.title('Нормальное распределение')\n",
    "plt.grid(True)"
   ]
  }
 ],
 "metadata": {
  "ExecuteTimeLog": [
   {
    "duration": 1186,
    "start_time": "2024-06-20T12:14:41.316Z"
   },
   {
    "duration": 316,
    "start_time": "2024-06-20T12:14:42.504Z"
   },
   {
    "duration": 10,
    "start_time": "2024-06-20T12:14:42.821Z"
   },
   {
    "duration": 9,
    "start_time": "2024-06-20T12:14:42.833Z"
   },
   {
    "duration": 17,
    "start_time": "2024-06-20T12:14:42.843Z"
   },
   {
    "duration": 10,
    "start_time": "2024-06-20T12:14:42.861Z"
   },
   {
    "duration": 8,
    "start_time": "2024-06-20T12:14:42.872Z"
   },
   {
    "duration": 7,
    "start_time": "2024-06-20T12:14:42.881Z"
   },
   {
    "duration": 220,
    "start_time": "2024-06-20T12:14:42.889Z"
   },
   {
    "duration": 288,
    "start_time": "2024-06-20T12:14:43.111Z"
   },
   {
    "duration": 283,
    "start_time": "2024-06-20T12:14:43.401Z"
   },
   {
    "duration": 6,
    "start_time": "2024-06-20T12:14:43.686Z"
   },
   {
    "duration": 14,
    "start_time": "2024-06-20T12:14:43.693Z"
   },
   {
    "duration": 6,
    "start_time": "2024-06-20T12:14:43.710Z"
   },
   {
    "duration": 6,
    "start_time": "2024-06-20T12:14:43.717Z"
   },
   {
    "duration": 5,
    "start_time": "2024-06-20T12:14:43.724Z"
   },
   {
    "duration": 13,
    "start_time": "2024-06-20T12:14:43.730Z"
   },
   {
    "duration": 17,
    "start_time": "2024-06-20T12:14:43.744Z"
   },
   {
    "duration": 19,
    "start_time": "2024-06-20T12:14:43.762Z"
   },
   {
    "duration": 13,
    "start_time": "2024-06-20T12:14:43.783Z"
   },
   {
    "duration": 6,
    "start_time": "2024-06-20T12:14:43.797Z"
   },
   {
    "duration": 3,
    "start_time": "2024-06-20T12:14:43.805Z"
   },
   {
    "duration": 8,
    "start_time": "2024-06-20T12:14:43.809Z"
   },
   {
    "duration": 162,
    "start_time": "2024-06-20T12:14:43.818Z"
   },
   {
    "duration": 5,
    "start_time": "2024-06-20T12:14:43.981Z"
   },
   {
    "duration": 166,
    "start_time": "2024-06-20T12:14:43.987Z"
   },
   {
    "duration": 298,
    "start_time": "2024-06-20T12:14:44.154Z"
   },
   {
    "duration": 119,
    "start_time": "2024-06-20T12:14:44.456Z"
   },
   {
    "duration": 4,
    "start_time": "2024-06-20T12:14:44.577Z"
   },
   {
    "duration": 7,
    "start_time": "2024-06-20T12:14:44.582Z"
   },
   {
    "duration": 4,
    "start_time": "2024-06-20T12:14:44.591Z"
   },
   {
    "duration": 143,
    "start_time": "2024-06-20T12:14:44.596Z"
   },
   {
    "duration": 226,
    "start_time": "2024-06-20T12:14:44.741Z"
   },
   {
    "duration": 231,
    "start_time": "2024-06-20T12:14:44.970Z"
   },
   {
    "duration": 122,
    "start_time": "2024-06-20T12:14:45.203Z"
   },
   {
    "duration": 229,
    "start_time": "2024-06-20T12:14:45.327Z"
   },
   {
    "duration": 309,
    "start_time": "2024-06-20T12:14:45.557Z"
   },
   {
    "duration": 5,
    "start_time": "2024-06-20T12:14:45.871Z"
   },
   {
    "duration": 9,
    "start_time": "2024-06-20T12:14:45.877Z"
   },
   {
    "duration": 3,
    "start_time": "2024-06-20T12:14:45.887Z"
   },
   {
    "duration": 4,
    "start_time": "2024-06-20T12:14:45.891Z"
   },
   {
    "duration": 4,
    "start_time": "2024-06-20T12:14:45.896Z"
   },
   {
    "duration": 5,
    "start_time": "2024-06-20T12:14:45.901Z"
   },
   {
    "duration": 9,
    "start_time": "2024-06-20T12:14:45.907Z"
   },
   {
    "duration": 254,
    "start_time": "2024-06-20T12:14:45.917Z"
   },
   {
    "duration": 123,
    "start_time": "2024-06-20T12:14:46.172Z"
   },
   {
    "duration": 215,
    "start_time": "2024-06-20T12:14:46.297Z"
   },
   {
    "duration": 231,
    "start_time": "2024-06-20T12:14:46.513Z"
   },
   {
    "duration": 6,
    "start_time": "2024-06-20T12:14:46.746Z"
   },
   {
    "duration": 5,
    "start_time": "2024-06-20T12:14:46.754Z"
   },
   {
    "duration": 14,
    "start_time": "2024-06-20T12:14:46.760Z"
   },
   {
    "duration": 15,
    "start_time": "2024-06-20T12:14:46.776Z"
   },
   {
    "duration": 11,
    "start_time": "2024-06-20T12:14:46.792Z"
   },
   {
    "duration": 15,
    "start_time": "2024-06-20T12:14:46.804Z"
   },
   {
    "duration": 4,
    "start_time": "2024-06-20T12:14:46.820Z"
   },
   {
    "duration": 5,
    "start_time": "2024-06-20T12:14:46.825Z"
   },
   {
    "duration": 4,
    "start_time": "2024-06-20T12:14:46.831Z"
   },
   {
    "duration": 20,
    "start_time": "2024-06-20T12:14:46.836Z"
   },
   {
    "duration": 16,
    "start_time": "2024-06-20T12:14:46.858Z"
   },
   {
    "duration": 37,
    "start_time": "2024-06-20T12:14:46.875Z"
   },
   {
    "duration": 3,
    "start_time": "2024-06-20T12:14:46.913Z"
   },
   {
    "duration": 837,
    "start_time": "2024-06-20T12:14:46.917Z"
   },
   {
    "duration": 15,
    "start_time": "2024-06-20T12:14:47.756Z"
   },
   {
    "duration": 3,
    "start_time": "2024-06-20T12:14:47.772Z"
   },
   {
    "duration": 5,
    "start_time": "2024-06-20T12:14:47.776Z"
   },
   {
    "duration": 4,
    "start_time": "2024-06-20T12:14:47.782Z"
   },
   {
    "duration": 24,
    "start_time": "2024-06-20T12:14:47.787Z"
   },
   {
    "duration": 5,
    "start_time": "2024-06-20T12:14:47.812Z"
   },
   {
    "duration": 5,
    "start_time": "2024-06-20T12:14:47.818Z"
   },
   {
    "duration": 4,
    "start_time": "2024-06-20T12:14:47.824Z"
   },
   {
    "duration": 5,
    "start_time": "2024-06-20T12:14:47.829Z"
   },
   {
    "duration": 4,
    "start_time": "2024-06-20T12:14:47.835Z"
   },
   {
    "duration": 19,
    "start_time": "2024-06-20T12:14:47.840Z"
   },
   {
    "duration": 11,
    "start_time": "2024-06-20T12:14:47.861Z"
   },
   {
    "duration": 8,
    "start_time": "2024-06-20T12:14:47.873Z"
   },
   {
    "duration": 16,
    "start_time": "2024-06-20T12:14:47.882Z"
   },
   {
    "duration": 29,
    "start_time": "2024-06-20T12:14:47.899Z"
   },
   {
    "duration": 4,
    "start_time": "2024-06-20T12:14:47.929Z"
   },
   {
    "duration": 8,
    "start_time": "2024-06-20T12:14:47.934Z"
   },
   {
    "duration": 9,
    "start_time": "2024-06-20T12:14:47.943Z"
   },
   {
    "duration": 4,
    "start_time": "2024-06-20T12:14:47.954Z"
   },
   {
    "duration": 9,
    "start_time": "2024-06-20T12:14:47.963Z"
   },
   {
    "duration": 3,
    "start_time": "2024-06-20T12:14:47.973Z"
   },
   {
    "duration": 3,
    "start_time": "2024-06-20T12:14:47.978Z"
   },
   {
    "duration": 128,
    "start_time": "2024-06-20T12:14:47.983Z"
   },
   {
    "duration": 1472,
    "start_time": "2024-06-20T12:14:48.112Z"
   },
   {
    "duration": 179,
    "start_time": "2024-06-20T12:14:49.585Z"
   },
   {
    "duration": 1206,
    "start_time": "2024-06-20T12:22:12.626Z"
   },
   {
    "duration": 229,
    "start_time": "2024-06-20T12:22:13.834Z"
   },
   {
    "duration": 11,
    "start_time": "2024-06-20T12:22:14.065Z"
   },
   {
    "duration": 9,
    "start_time": "2024-06-20T12:22:14.078Z"
   },
   {
    "duration": 11,
    "start_time": "2024-06-20T12:22:14.088Z"
   },
   {
    "duration": 13,
    "start_time": "2024-06-20T12:22:14.100Z"
   },
   {
    "duration": 25,
    "start_time": "2024-06-20T12:22:14.115Z"
   },
   {
    "duration": 14,
    "start_time": "2024-06-20T12:22:14.141Z"
   },
   {
    "duration": 267,
    "start_time": "2024-06-20T12:22:14.157Z"
   },
   {
    "duration": 370,
    "start_time": "2024-06-20T12:22:14.427Z"
   },
   {
    "duration": 353,
    "start_time": "2024-06-20T12:22:14.798Z"
   },
   {
    "duration": 10,
    "start_time": "2024-06-20T12:22:15.153Z"
   },
   {
    "duration": 31,
    "start_time": "2024-06-20T12:22:15.164Z"
   },
   {
    "duration": 22,
    "start_time": "2024-06-20T12:22:15.196Z"
   },
   {
    "duration": 15,
    "start_time": "2024-06-20T12:22:15.219Z"
   },
   {
    "duration": 39,
    "start_time": "2024-06-20T12:22:15.236Z"
   },
   {
    "duration": 45,
    "start_time": "2024-06-20T12:22:15.276Z"
   },
   {
    "duration": 16,
    "start_time": "2024-06-20T12:22:15.322Z"
   },
   {
    "duration": 28,
    "start_time": "2024-06-20T12:22:15.340Z"
   },
   {
    "duration": 21,
    "start_time": "2024-06-20T12:22:15.370Z"
   },
   {
    "duration": 18,
    "start_time": "2024-06-20T12:22:15.393Z"
   },
   {
    "duration": 6,
    "start_time": "2024-06-20T12:22:15.413Z"
   },
   {
    "duration": 27,
    "start_time": "2024-06-20T12:22:15.421Z"
   },
   {
    "duration": 246,
    "start_time": "2024-06-20T12:22:15.450Z"
   },
   {
    "duration": 6,
    "start_time": "2024-06-20T12:22:15.698Z"
   },
   {
    "duration": 212,
    "start_time": "2024-06-20T12:22:15.705Z"
   },
   {
    "duration": 393,
    "start_time": "2024-06-20T12:22:15.919Z"
   },
   {
    "duration": 140,
    "start_time": "2024-06-20T12:22:16.316Z"
   },
   {
    "duration": 4,
    "start_time": "2024-06-20T12:22:16.458Z"
   },
   {
    "duration": 22,
    "start_time": "2024-06-20T12:22:16.463Z"
   },
   {
    "duration": 10,
    "start_time": "2024-06-20T12:22:16.486Z"
   },
   {
    "duration": 166,
    "start_time": "2024-06-20T12:22:16.497Z"
   },
   {
    "duration": 319,
    "start_time": "2024-06-20T12:22:16.664Z"
   },
   {
    "duration": 311,
    "start_time": "2024-06-20T12:22:16.985Z"
   },
   {
    "duration": 161,
    "start_time": "2024-06-20T12:22:17.298Z"
   },
   {
    "duration": 308,
    "start_time": "2024-06-20T12:22:17.461Z"
   },
   {
    "duration": 400,
    "start_time": "2024-06-20T12:22:17.770Z"
   },
   {
    "duration": 11,
    "start_time": "2024-06-20T12:22:18.171Z"
   },
   {
    "duration": 8,
    "start_time": "2024-06-20T12:22:18.183Z"
   },
   {
    "duration": 4,
    "start_time": "2024-06-20T12:22:18.192Z"
   },
   {
    "duration": 19,
    "start_time": "2024-06-20T12:22:18.197Z"
   },
   {
    "duration": 16,
    "start_time": "2024-06-20T12:22:18.218Z"
   },
   {
    "duration": 24,
    "start_time": "2024-06-20T12:22:18.236Z"
   },
   {
    "duration": 15,
    "start_time": "2024-06-20T12:22:18.262Z"
   },
   {
    "duration": 299,
    "start_time": "2024-06-20T12:22:18.279Z"
   },
   {
    "duration": 165,
    "start_time": "2024-06-20T12:22:18.581Z"
   },
   {
    "duration": 293,
    "start_time": "2024-06-20T12:22:18.748Z"
   },
   {
    "duration": 349,
    "start_time": "2024-06-20T12:22:19.043Z"
   },
   {
    "duration": 9,
    "start_time": "2024-06-20T12:22:19.394Z"
   },
   {
    "duration": 6,
    "start_time": "2024-06-20T12:22:19.406Z"
   },
   {
    "duration": 17,
    "start_time": "2024-06-20T12:22:19.413Z"
   },
   {
    "duration": 19,
    "start_time": "2024-06-20T12:22:19.432Z"
   },
   {
    "duration": 26,
    "start_time": "2024-06-20T12:22:19.453Z"
   },
   {
    "duration": 28,
    "start_time": "2024-06-20T12:22:19.481Z"
   },
   {
    "duration": 8,
    "start_time": "2024-06-20T12:22:19.511Z"
   },
   {
    "duration": 5,
    "start_time": "2024-06-20T12:22:19.521Z"
   },
   {
    "duration": 5,
    "start_time": "2024-06-20T12:22:19.528Z"
   },
   {
    "duration": 16,
    "start_time": "2024-06-20T12:22:19.534Z"
   },
   {
    "duration": 12,
    "start_time": "2024-06-20T12:22:19.552Z"
   },
   {
    "duration": 20,
    "start_time": "2024-06-20T12:22:19.566Z"
   },
   {
    "duration": 4,
    "start_time": "2024-06-20T12:22:19.587Z"
   },
   {
    "duration": 1141,
    "start_time": "2024-06-20T12:22:19.593Z"
   },
   {
    "duration": 11,
    "start_time": "2024-06-20T12:22:20.736Z"
   },
   {
    "duration": 22,
    "start_time": "2024-06-20T12:22:20.748Z"
   },
   {
    "duration": 67,
    "start_time": "2024-06-20T12:22:20.772Z"
   },
   {
    "duration": 30,
    "start_time": "2024-06-20T12:22:20.841Z"
   },
   {
    "duration": 25,
    "start_time": "2024-06-20T12:22:20.873Z"
   },
   {
    "duration": 14,
    "start_time": "2024-06-20T12:22:20.900Z"
   },
   {
    "duration": 20,
    "start_time": "2024-06-20T12:22:20.916Z"
   },
   {
    "duration": 62,
    "start_time": "2024-06-20T12:22:20.938Z"
   },
   {
    "duration": 70,
    "start_time": "2024-06-20T12:22:21.002Z"
   },
   {
    "duration": 32,
    "start_time": "2024-06-20T12:22:21.074Z"
   },
   {
    "duration": 20,
    "start_time": "2024-06-20T12:22:21.108Z"
   },
   {
    "duration": 29,
    "start_time": "2024-06-20T12:22:21.130Z"
   },
   {
    "duration": 14,
    "start_time": "2024-06-20T12:22:21.161Z"
   },
   {
    "duration": 30,
    "start_time": "2024-06-20T12:22:21.177Z"
   },
   {
    "duration": 16,
    "start_time": "2024-06-20T12:22:21.208Z"
   },
   {
    "duration": 11,
    "start_time": "2024-06-20T12:22:21.226Z"
   },
   {
    "duration": 39,
    "start_time": "2024-06-20T12:22:21.238Z"
   },
   {
    "duration": 24,
    "start_time": "2024-06-20T12:22:21.278Z"
   },
   {
    "duration": 18,
    "start_time": "2024-06-20T12:22:21.304Z"
   },
   {
    "duration": 16,
    "start_time": "2024-06-20T12:22:21.329Z"
   },
   {
    "duration": 12,
    "start_time": "2024-06-20T12:22:21.346Z"
   },
   {
    "duration": 12,
    "start_time": "2024-06-20T12:22:21.360Z"
   },
   {
    "duration": 166,
    "start_time": "2024-06-20T12:22:21.374Z"
   },
   {
    "duration": 1991,
    "start_time": "2024-06-20T12:22:21.542Z"
   },
   {
    "duration": 225,
    "start_time": "2024-06-20T12:22:23.535Z"
   },
   {
    "duration": 11,
    "start_time": "2024-06-20T13:12:12.398Z"
   },
   {
    "duration": 1249,
    "start_time": "2024-06-20T13:59:52.890Z"
   },
   {
    "duration": 97,
    "start_time": "2024-06-20T13:59:54.141Z"
   },
   {
    "duration": 12,
    "start_time": "2024-06-20T13:59:54.239Z"
   },
   {
    "duration": 59,
    "start_time": "2024-06-20T13:59:54.252Z"
   },
   {
    "duration": 27,
    "start_time": "2024-06-20T13:59:54.313Z"
   },
   {
    "duration": 25,
    "start_time": "2024-06-20T13:59:54.342Z"
   },
   {
    "duration": 46,
    "start_time": "2024-06-20T13:59:54.369Z"
   },
   {
    "duration": 25,
    "start_time": "2024-06-20T13:59:54.417Z"
   },
   {
    "duration": 281,
    "start_time": "2024-06-20T13:59:54.443Z"
   },
   {
    "duration": 379,
    "start_time": "2024-06-20T13:59:54.726Z"
   },
   {
    "duration": 397,
    "start_time": "2024-06-20T13:59:55.107Z"
   },
   {
    "duration": 8,
    "start_time": "2024-06-20T13:59:55.506Z"
   },
   {
    "duration": 15,
    "start_time": "2024-06-20T13:59:55.516Z"
   },
   {
    "duration": 6,
    "start_time": "2024-06-20T13:59:55.533Z"
   },
   {
    "duration": 6,
    "start_time": "2024-06-20T13:59:55.540Z"
   },
   {
    "duration": 6,
    "start_time": "2024-06-20T13:59:55.548Z"
   },
   {
    "duration": 9,
    "start_time": "2024-06-20T13:59:55.582Z"
   },
   {
    "duration": 9,
    "start_time": "2024-06-20T13:59:55.593Z"
   },
   {
    "duration": 7,
    "start_time": "2024-06-20T13:59:55.604Z"
   },
   {
    "duration": 9,
    "start_time": "2024-06-20T13:59:55.613Z"
   },
   {
    "duration": 11,
    "start_time": "2024-06-20T13:59:55.624Z"
   },
   {
    "duration": 5,
    "start_time": "2024-06-20T13:59:55.637Z"
   },
   {
    "duration": 39,
    "start_time": "2024-06-20T13:59:55.644Z"
   },
   {
    "duration": 201,
    "start_time": "2024-06-20T13:59:55.685Z"
   },
   {
    "duration": 7,
    "start_time": "2024-06-20T13:59:55.888Z"
   },
   {
    "duration": 221,
    "start_time": "2024-06-20T13:59:55.896Z"
   },
   {
    "duration": 392,
    "start_time": "2024-06-20T13:59:56.118Z"
   },
   {
    "duration": 149,
    "start_time": "2024-06-20T13:59:56.514Z"
   },
   {
    "duration": 6,
    "start_time": "2024-06-20T13:59:56.664Z"
   },
   {
    "duration": 21,
    "start_time": "2024-06-20T13:59:56.681Z"
   },
   {
    "duration": 6,
    "start_time": "2024-06-20T13:59:56.704Z"
   },
   {
    "duration": 217,
    "start_time": "2024-06-20T13:59:56.712Z"
   },
   {
    "duration": 346,
    "start_time": "2024-06-20T13:59:56.931Z"
   },
   {
    "duration": 317,
    "start_time": "2024-06-20T13:59:57.278Z"
   },
   {
    "duration": 164,
    "start_time": "2024-06-20T13:59:57.597Z"
   },
   {
    "duration": 310,
    "start_time": "2024-06-20T13:59:57.763Z"
   },
   {
    "duration": 407,
    "start_time": "2024-06-20T13:59:58.075Z"
   },
   {
    "duration": 8,
    "start_time": "2024-06-20T13:59:58.483Z"
   },
   {
    "duration": 6,
    "start_time": "2024-06-20T13:59:58.492Z"
   },
   {
    "duration": 6,
    "start_time": "2024-06-20T13:59:58.499Z"
   },
   {
    "duration": 6,
    "start_time": "2024-06-20T13:59:58.507Z"
   },
   {
    "duration": 148,
    "start_time": "2024-06-20T13:59:58.514Z"
   },
   {
    "duration": 0,
    "start_time": "2024-06-20T13:59:58.664Z"
   },
   {
    "duration": 0,
    "start_time": "2024-06-20T13:59:58.665Z"
   },
   {
    "duration": 0,
    "start_time": "2024-06-20T13:59:58.667Z"
   },
   {
    "duration": 0,
    "start_time": "2024-06-20T13:59:58.682Z"
   },
   {
    "duration": 0,
    "start_time": "2024-06-20T13:59:58.684Z"
   },
   {
    "duration": 0,
    "start_time": "2024-06-20T13:59:58.685Z"
   },
   {
    "duration": 0,
    "start_time": "2024-06-20T13:59:58.686Z"
   },
   {
    "duration": 0,
    "start_time": "2024-06-20T13:59:58.688Z"
   },
   {
    "duration": 0,
    "start_time": "2024-06-20T13:59:58.689Z"
   },
   {
    "duration": 0,
    "start_time": "2024-06-20T13:59:58.691Z"
   },
   {
    "duration": 0,
    "start_time": "2024-06-20T13:59:58.692Z"
   },
   {
    "duration": 0,
    "start_time": "2024-06-20T13:59:58.694Z"
   },
   {
    "duration": 0,
    "start_time": "2024-06-20T13:59:58.695Z"
   },
   {
    "duration": 0,
    "start_time": "2024-06-20T13:59:58.697Z"
   },
   {
    "duration": 1,
    "start_time": "2024-06-20T13:59:58.699Z"
   },
   {
    "duration": 0,
    "start_time": "2024-06-20T13:59:58.701Z"
   },
   {
    "duration": 0,
    "start_time": "2024-06-20T13:59:58.702Z"
   },
   {
    "duration": 0,
    "start_time": "2024-06-20T13:59:58.704Z"
   },
   {
    "duration": 0,
    "start_time": "2024-06-20T13:59:58.706Z"
   },
   {
    "duration": 0,
    "start_time": "2024-06-20T13:59:58.708Z"
   },
   {
    "duration": 0,
    "start_time": "2024-06-20T13:59:58.710Z"
   },
   {
    "duration": 1,
    "start_time": "2024-06-20T13:59:58.710Z"
   },
   {
    "duration": 0,
    "start_time": "2024-06-20T13:59:58.712Z"
   },
   {
    "duration": 0,
    "start_time": "2024-06-20T13:59:58.716Z"
   },
   {
    "duration": 0,
    "start_time": "2024-06-20T13:59:58.717Z"
   },
   {
    "duration": 0,
    "start_time": "2024-06-20T13:59:58.719Z"
   },
   {
    "duration": 0,
    "start_time": "2024-06-20T13:59:58.720Z"
   },
   {
    "duration": 0,
    "start_time": "2024-06-20T13:59:58.721Z"
   },
   {
    "duration": 0,
    "start_time": "2024-06-20T13:59:58.722Z"
   },
   {
    "duration": 0,
    "start_time": "2024-06-20T13:59:58.783Z"
   },
   {
    "duration": 0,
    "start_time": "2024-06-20T13:59:58.784Z"
   },
   {
    "duration": 0,
    "start_time": "2024-06-20T13:59:58.786Z"
   },
   {
    "duration": 0,
    "start_time": "2024-06-20T13:59:58.787Z"
   },
   {
    "duration": 0,
    "start_time": "2024-06-20T13:59:58.788Z"
   },
   {
    "duration": 0,
    "start_time": "2024-06-20T13:59:58.790Z"
   },
   {
    "duration": 0,
    "start_time": "2024-06-20T13:59:58.792Z"
   },
   {
    "duration": 0,
    "start_time": "2024-06-20T13:59:58.793Z"
   },
   {
    "duration": 0,
    "start_time": "2024-06-20T13:59:58.794Z"
   },
   {
    "duration": 0,
    "start_time": "2024-06-20T13:59:58.796Z"
   },
   {
    "duration": 0,
    "start_time": "2024-06-20T13:59:58.797Z"
   },
   {
    "duration": 0,
    "start_time": "2024-06-20T13:59:58.798Z"
   },
   {
    "duration": 0,
    "start_time": "2024-06-20T13:59:58.800Z"
   },
   {
    "duration": 0,
    "start_time": "2024-06-20T13:59:58.801Z"
   },
   {
    "duration": 0,
    "start_time": "2024-06-20T13:59:58.803Z"
   },
   {
    "duration": 0,
    "start_time": "2024-06-20T13:59:58.804Z"
   },
   {
    "duration": 0,
    "start_time": "2024-06-20T13:59:58.806Z"
   },
   {
    "duration": 1170,
    "start_time": "2024-06-20T14:00:24.624Z"
   },
   {
    "duration": 101,
    "start_time": "2024-06-20T14:00:25.797Z"
   },
   {
    "duration": 15,
    "start_time": "2024-06-20T14:00:25.900Z"
   },
   {
    "duration": 42,
    "start_time": "2024-06-20T14:00:25.917Z"
   },
   {
    "duration": 31,
    "start_time": "2024-06-20T14:00:25.961Z"
   },
   {
    "duration": 27,
    "start_time": "2024-06-20T14:00:25.995Z"
   },
   {
    "duration": 17,
    "start_time": "2024-06-20T14:00:26.024Z"
   },
   {
    "duration": 32,
    "start_time": "2024-06-20T14:00:26.043Z"
   },
   {
    "duration": 276,
    "start_time": "2024-06-20T14:00:26.077Z"
   },
   {
    "duration": 383,
    "start_time": "2024-06-20T14:00:26.356Z"
   },
   {
    "duration": 380,
    "start_time": "2024-06-20T14:00:26.741Z"
   },
   {
    "duration": 8,
    "start_time": "2024-06-20T14:00:27.123Z"
   },
   {
    "duration": 45,
    "start_time": "2024-06-20T14:00:27.133Z"
   },
   {
    "duration": 45,
    "start_time": "2024-06-20T14:00:27.180Z"
   },
   {
    "duration": 22,
    "start_time": "2024-06-20T14:00:27.226Z"
   },
   {
    "duration": 35,
    "start_time": "2024-06-20T14:00:27.249Z"
   },
   {
    "duration": 35,
    "start_time": "2024-06-20T14:00:27.285Z"
   },
   {
    "duration": 15,
    "start_time": "2024-06-20T14:00:27.321Z"
   },
   {
    "duration": 29,
    "start_time": "2024-06-20T14:00:27.337Z"
   },
   {
    "duration": 28,
    "start_time": "2024-06-20T14:00:27.369Z"
   },
   {
    "duration": 29,
    "start_time": "2024-06-20T14:00:27.400Z"
   },
   {
    "duration": 5,
    "start_time": "2024-06-20T14:00:27.432Z"
   },
   {
    "duration": 19,
    "start_time": "2024-06-20T14:00:27.439Z"
   },
   {
    "duration": 205,
    "start_time": "2024-06-20T14:00:27.460Z"
   },
   {
    "duration": 15,
    "start_time": "2024-06-20T14:00:27.667Z"
   },
   {
    "duration": 241,
    "start_time": "2024-06-20T14:00:27.684Z"
   },
   {
    "duration": 396,
    "start_time": "2024-06-20T14:00:27.927Z"
   },
   {
    "duration": 148,
    "start_time": "2024-06-20T14:00:28.329Z"
   },
   {
    "duration": 7,
    "start_time": "2024-06-20T14:00:28.479Z"
   },
   {
    "duration": 43,
    "start_time": "2024-06-20T14:00:28.488Z"
   },
   {
    "duration": 24,
    "start_time": "2024-06-20T14:00:28.533Z"
   },
   {
    "duration": 207,
    "start_time": "2024-06-20T14:00:28.558Z"
   },
   {
    "duration": 307,
    "start_time": "2024-06-20T14:00:28.767Z"
   },
   {
    "duration": 300,
    "start_time": "2024-06-20T14:00:29.075Z"
   },
   {
    "duration": 176,
    "start_time": "2024-06-20T14:00:29.377Z"
   },
   {
    "duration": 300,
    "start_time": "2024-06-20T14:00:29.554Z"
   },
   {
    "duration": 392,
    "start_time": "2024-06-20T14:00:29.856Z"
   },
   {
    "duration": 7,
    "start_time": "2024-06-20T14:00:30.249Z"
   },
   {
    "duration": 58,
    "start_time": "2024-06-20T14:00:30.257Z"
   },
   {
    "duration": 30,
    "start_time": "2024-06-20T14:00:30.316Z"
   },
   {
    "duration": 46,
    "start_time": "2024-06-20T14:00:30.348Z"
   },
   {
    "duration": 80,
    "start_time": "2024-06-20T14:00:30.396Z"
   },
   {
    "duration": 82,
    "start_time": "2024-06-20T14:00:30.477Z"
   },
   {
    "duration": 38,
    "start_time": "2024-06-20T14:00:30.561Z"
   },
   {
    "duration": 418,
    "start_time": "2024-06-20T14:00:30.601Z"
   },
   {
    "duration": 170,
    "start_time": "2024-06-20T14:00:31.021Z"
   },
   {
    "duration": 298,
    "start_time": "2024-06-20T14:00:31.193Z"
   },
   {
    "duration": 313,
    "start_time": "2024-06-20T14:00:31.494Z"
   },
   {
    "duration": 9,
    "start_time": "2024-06-20T14:00:31.809Z"
   },
   {
    "duration": 42,
    "start_time": "2024-06-20T14:00:31.820Z"
   },
   {
    "duration": 22,
    "start_time": "2024-06-20T14:00:31.863Z"
   },
   {
    "duration": 51,
    "start_time": "2024-06-20T14:00:31.886Z"
   },
   {
    "duration": 34,
    "start_time": "2024-06-20T14:00:31.939Z"
   },
   {
    "duration": 82,
    "start_time": "2024-06-20T14:00:31.974Z"
   },
   {
    "duration": 49,
    "start_time": "2024-06-20T14:00:32.058Z"
   },
   {
    "duration": 17,
    "start_time": "2024-06-20T14:00:32.109Z"
   },
   {
    "duration": 7,
    "start_time": "2024-06-20T14:00:32.128Z"
   },
   {
    "duration": 18,
    "start_time": "2024-06-20T14:00:32.136Z"
   },
   {
    "duration": 13,
    "start_time": "2024-06-20T14:00:32.156Z"
   },
   {
    "duration": 45,
    "start_time": "2024-06-20T14:00:32.170Z"
   },
   {
    "duration": 76,
    "start_time": "2024-06-20T14:00:32.217Z"
   },
   {
    "duration": 1244,
    "start_time": "2024-06-20T14:00:32.295Z"
   },
   {
    "duration": 11,
    "start_time": "2024-06-20T14:00:33.541Z"
   },
   {
    "duration": 14,
    "start_time": "2024-06-20T14:00:33.554Z"
   },
   {
    "duration": 12,
    "start_time": "2024-06-20T14:00:33.570Z"
   },
   {
    "duration": 4,
    "start_time": "2024-06-20T14:00:33.583Z"
   },
   {
    "duration": 24,
    "start_time": "2024-06-20T14:00:33.589Z"
   },
   {
    "duration": 9,
    "start_time": "2024-06-20T14:00:33.615Z"
   },
   {
    "duration": 6,
    "start_time": "2024-06-20T14:00:33.626Z"
   },
   {
    "duration": 6,
    "start_time": "2024-06-20T14:00:33.633Z"
   },
   {
    "duration": 2,
    "start_time": "2024-06-20T14:00:33.641Z"
   },
   {
    "duration": 5,
    "start_time": "2024-06-20T14:00:33.645Z"
   },
   {
    "duration": 31,
    "start_time": "2024-06-20T14:00:33.652Z"
   },
   {
    "duration": 7,
    "start_time": "2024-06-20T14:00:33.685Z"
   },
   {
    "duration": 7,
    "start_time": "2024-06-20T14:00:33.694Z"
   },
   {
    "duration": 5,
    "start_time": "2024-06-20T14:00:33.702Z"
   },
   {
    "duration": 7,
    "start_time": "2024-06-20T14:00:33.708Z"
   },
   {
    "duration": 5,
    "start_time": "2024-06-20T14:00:33.717Z"
   },
   {
    "duration": 5,
    "start_time": "2024-06-20T14:00:33.723Z"
   },
   {
    "duration": 17,
    "start_time": "2024-06-20T14:00:33.730Z"
   },
   {
    "duration": 36,
    "start_time": "2024-06-20T14:00:33.749Z"
   },
   {
    "duration": 3,
    "start_time": "2024-06-20T14:00:33.790Z"
   },
   {
    "duration": 16,
    "start_time": "2024-06-20T14:00:33.795Z"
   },
   {
    "duration": 4,
    "start_time": "2024-06-20T14:00:33.813Z"
   },
   {
    "duration": 3,
    "start_time": "2024-06-20T14:00:33.819Z"
   },
   {
    "duration": 184,
    "start_time": "2024-06-20T14:00:33.824Z"
   },
   {
    "duration": 1945,
    "start_time": "2024-06-20T14:00:34.010Z"
   },
   {
    "duration": 237,
    "start_time": "2024-06-20T14:00:35.957Z"
   },
   {
    "duration": 800,
    "start_time": "2024-06-20T14:11:45.765Z"
   },
   {
    "duration": 1227,
    "start_time": "2024-06-20T14:17:46.380Z"
   },
   {
    "duration": 100,
    "start_time": "2024-06-20T14:17:47.608Z"
   },
   {
    "duration": 12,
    "start_time": "2024-06-20T14:17:47.709Z"
   },
   {
    "duration": 33,
    "start_time": "2024-06-20T14:17:47.723Z"
   },
   {
    "duration": 8,
    "start_time": "2024-06-20T14:17:47.758Z"
   },
   {
    "duration": 11,
    "start_time": "2024-06-20T14:17:47.767Z"
   },
   {
    "duration": 12,
    "start_time": "2024-06-20T14:17:47.779Z"
   },
   {
    "duration": 10,
    "start_time": "2024-06-20T14:17:47.793Z"
   },
   {
    "duration": 281,
    "start_time": "2024-06-20T14:17:47.804Z"
   },
   {
    "duration": 375,
    "start_time": "2024-06-20T14:17:48.088Z"
   },
   {
    "duration": 397,
    "start_time": "2024-06-20T14:17:48.464Z"
   },
   {
    "duration": 8,
    "start_time": "2024-06-20T14:17:48.862Z"
   },
   {
    "duration": 14,
    "start_time": "2024-06-20T14:17:48.871Z"
   },
   {
    "duration": 30,
    "start_time": "2024-06-20T14:17:48.886Z"
   },
   {
    "duration": 11,
    "start_time": "2024-06-20T14:17:48.918Z"
   },
   {
    "duration": 8,
    "start_time": "2024-06-20T14:17:48.930Z"
   },
   {
    "duration": 10,
    "start_time": "2024-06-20T14:17:48.940Z"
   },
   {
    "duration": 16,
    "start_time": "2024-06-20T14:17:48.952Z"
   },
   {
    "duration": 11,
    "start_time": "2024-06-20T14:17:48.970Z"
   },
   {
    "duration": 46,
    "start_time": "2024-06-20T14:17:48.982Z"
   },
   {
    "duration": 11,
    "start_time": "2024-06-20T14:17:49.030Z"
   },
   {
    "duration": 4,
    "start_time": "2024-06-20T14:17:49.043Z"
   },
   {
    "duration": 10,
    "start_time": "2024-06-20T14:17:49.049Z"
   },
   {
    "duration": 189,
    "start_time": "2024-06-20T14:17:49.061Z"
   },
   {
    "duration": 6,
    "start_time": "2024-06-20T14:17:49.252Z"
   },
   {
    "duration": 195,
    "start_time": "2024-06-20T14:17:49.259Z"
   },
   {
    "duration": 384,
    "start_time": "2024-06-20T14:17:49.455Z"
   },
   {
    "duration": 147,
    "start_time": "2024-06-20T14:17:49.844Z"
   },
   {
    "duration": 5,
    "start_time": "2024-06-20T14:17:49.992Z"
   },
   {
    "duration": 26,
    "start_time": "2024-06-20T14:17:49.999Z"
   },
   {
    "duration": 13,
    "start_time": "2024-06-20T14:17:50.027Z"
   },
   {
    "duration": 163,
    "start_time": "2024-06-20T14:17:50.042Z"
   },
   {
    "duration": 316,
    "start_time": "2024-06-20T14:17:50.206Z"
   },
   {
    "duration": 325,
    "start_time": "2024-06-20T14:17:50.524Z"
   },
   {
    "duration": 158,
    "start_time": "2024-06-20T14:17:50.851Z"
   },
   {
    "duration": 294,
    "start_time": "2024-06-20T14:17:51.011Z"
   },
   {
    "duration": 392,
    "start_time": "2024-06-20T14:17:51.307Z"
   },
   {
    "duration": 5,
    "start_time": "2024-06-20T14:17:51.701Z"
   },
   {
    "duration": 45,
    "start_time": "2024-06-20T14:17:51.708Z"
   },
   {
    "duration": 5,
    "start_time": "2024-06-20T14:17:51.755Z"
   },
   {
    "duration": 5,
    "start_time": "2024-06-20T14:17:51.761Z"
   },
   {
    "duration": 25,
    "start_time": "2024-06-20T14:17:51.768Z"
   },
   {
    "duration": 19,
    "start_time": "2024-06-20T14:17:51.795Z"
   },
   {
    "duration": 15,
    "start_time": "2024-06-20T14:17:51.817Z"
   },
   {
    "duration": 335,
    "start_time": "2024-06-20T14:17:51.833Z"
   },
   {
    "duration": 173,
    "start_time": "2024-06-20T14:17:52.169Z"
   },
   {
    "duration": 330,
    "start_time": "2024-06-20T14:17:52.343Z"
   },
   {
    "duration": 309,
    "start_time": "2024-06-20T14:17:52.675Z"
   },
   {
    "duration": 8,
    "start_time": "2024-06-20T14:17:52.986Z"
   },
   {
    "duration": 36,
    "start_time": "2024-06-20T14:17:52.996Z"
   },
   {
    "duration": 8,
    "start_time": "2024-06-20T14:17:53.034Z"
   },
   {
    "duration": 11,
    "start_time": "2024-06-20T14:17:53.043Z"
   },
   {
    "duration": 9,
    "start_time": "2024-06-20T14:17:53.055Z"
   },
   {
    "duration": 8,
    "start_time": "2024-06-20T14:17:53.066Z"
   },
   {
    "duration": 63,
    "start_time": "2024-06-20T14:17:53.076Z"
   },
   {
    "duration": 6,
    "start_time": "2024-06-20T14:17:53.141Z"
   },
   {
    "duration": 4,
    "start_time": "2024-06-20T14:17:53.149Z"
   },
   {
    "duration": 19,
    "start_time": "2024-06-20T14:17:53.154Z"
   },
   {
    "duration": 9,
    "start_time": "2024-06-20T14:17:53.176Z"
   },
   {
    "duration": 23,
    "start_time": "2024-06-20T14:17:53.186Z"
   },
   {
    "duration": 7,
    "start_time": "2024-06-20T14:17:53.210Z"
   },
   {
    "duration": 1176,
    "start_time": "2024-06-20T14:17:53.219Z"
   },
   {
    "duration": 11,
    "start_time": "2024-06-20T14:17:54.396Z"
   },
   {
    "duration": 9,
    "start_time": "2024-06-20T14:17:54.408Z"
   },
   {
    "duration": 9,
    "start_time": "2024-06-20T14:17:54.418Z"
   },
   {
    "duration": 7,
    "start_time": "2024-06-20T14:17:54.428Z"
   },
   {
    "duration": 23,
    "start_time": "2024-06-20T14:17:54.437Z"
   },
   {
    "duration": 6,
    "start_time": "2024-06-20T14:17:54.462Z"
   },
   {
    "duration": 17,
    "start_time": "2024-06-20T14:17:54.469Z"
   },
   {
    "duration": 8,
    "start_time": "2024-06-20T14:17:54.488Z"
   },
   {
    "duration": 15,
    "start_time": "2024-06-20T14:17:54.498Z"
   },
   {
    "duration": 4,
    "start_time": "2024-06-20T14:17:54.515Z"
   },
   {
    "duration": 7,
    "start_time": "2024-06-20T14:17:54.520Z"
   },
   {
    "duration": 7,
    "start_time": "2024-06-20T14:17:54.529Z"
   },
   {
    "duration": 7,
    "start_time": "2024-06-20T14:17:54.537Z"
   },
   {
    "duration": 5,
    "start_time": "2024-06-20T14:17:54.546Z"
   },
   {
    "duration": 4,
    "start_time": "2024-06-20T14:17:54.552Z"
   },
   {
    "duration": 25,
    "start_time": "2024-06-20T14:17:54.558Z"
   },
   {
    "duration": 23,
    "start_time": "2024-06-20T14:17:54.584Z"
   },
   {
    "duration": 12,
    "start_time": "2024-06-20T14:17:54.608Z"
   },
   {
    "duration": 9,
    "start_time": "2024-06-20T14:17:54.622Z"
   },
   {
    "duration": 11,
    "start_time": "2024-06-20T14:17:54.636Z"
   },
   {
    "duration": 4,
    "start_time": "2024-06-20T14:17:54.649Z"
   },
   {
    "duration": 10,
    "start_time": "2024-06-20T14:17:54.654Z"
   },
   {
    "duration": 179,
    "start_time": "2024-06-20T14:17:54.665Z"
   },
   {
    "duration": 1928,
    "start_time": "2024-06-20T14:17:54.846Z"
   },
   {
    "duration": 228,
    "start_time": "2024-06-20T14:17:56.783Z"
   },
   {
    "duration": 146,
    "start_time": "2024-06-20T14:22:47.538Z"
   },
   {
    "duration": 1987,
    "start_time": "2024-06-20T14:22:48.522Z"
   },
   {
    "duration": 1174,
    "start_time": "2024-06-20T14:23:27.741Z"
   },
   {
    "duration": 95,
    "start_time": "2024-06-20T14:23:28.917Z"
   },
   {
    "duration": 12,
    "start_time": "2024-06-20T14:23:29.014Z"
   },
   {
    "duration": 20,
    "start_time": "2024-06-20T14:23:29.028Z"
   },
   {
    "duration": 11,
    "start_time": "2024-06-20T14:23:29.050Z"
   },
   {
    "duration": 12,
    "start_time": "2024-06-20T14:23:29.063Z"
   },
   {
    "duration": 20,
    "start_time": "2024-06-20T14:23:29.077Z"
   },
   {
    "duration": 9,
    "start_time": "2024-06-20T14:23:29.099Z"
   },
   {
    "duration": 259,
    "start_time": "2024-06-20T14:23:29.110Z"
   },
   {
    "duration": 402,
    "start_time": "2024-06-20T14:23:29.372Z"
   },
   {
    "duration": 397,
    "start_time": "2024-06-20T14:23:29.781Z"
   },
   {
    "duration": 6,
    "start_time": "2024-06-20T14:23:30.182Z"
   },
   {
    "duration": 49,
    "start_time": "2024-06-20T14:23:30.190Z"
   },
   {
    "duration": 31,
    "start_time": "2024-06-20T14:23:30.241Z"
   },
   {
    "duration": 66,
    "start_time": "2024-06-20T14:23:30.273Z"
   },
   {
    "duration": 92,
    "start_time": "2024-06-20T14:23:30.341Z"
   },
   {
    "duration": 65,
    "start_time": "2024-06-20T14:23:30.435Z"
   },
   {
    "duration": 34,
    "start_time": "2024-06-20T14:23:30.502Z"
   },
   {
    "duration": 98,
    "start_time": "2024-06-20T14:23:30.538Z"
   },
   {
    "duration": 57,
    "start_time": "2024-06-20T14:23:30.638Z"
   },
   {
    "duration": 66,
    "start_time": "2024-06-20T14:23:30.697Z"
   },
   {
    "duration": 55,
    "start_time": "2024-06-20T14:23:30.765Z"
   },
   {
    "duration": 192,
    "start_time": "2024-06-20T14:23:30.822Z"
   },
   {
    "duration": 245,
    "start_time": "2024-06-20T14:23:31.016Z"
   },
   {
    "duration": 6,
    "start_time": "2024-06-20T14:23:31.263Z"
   },
   {
    "duration": 231,
    "start_time": "2024-06-20T14:23:31.281Z"
   },
   {
    "duration": 400,
    "start_time": "2024-06-20T14:23:31.514Z"
   },
   {
    "duration": 147,
    "start_time": "2024-06-20T14:23:31.919Z"
   },
   {
    "duration": 15,
    "start_time": "2024-06-20T14:23:32.067Z"
   },
   {
    "duration": 5,
    "start_time": "2024-06-20T14:23:32.083Z"
   },
   {
    "duration": 9,
    "start_time": "2024-06-20T14:23:32.090Z"
   },
   {
    "duration": 173,
    "start_time": "2024-06-20T14:23:32.100Z"
   },
   {
    "duration": 343,
    "start_time": "2024-06-20T14:23:32.274Z"
   },
   {
    "duration": 330,
    "start_time": "2024-06-20T14:23:32.618Z"
   },
   {
    "duration": 159,
    "start_time": "2024-06-20T14:23:32.950Z"
   },
   {
    "duration": 297,
    "start_time": "2024-06-20T14:23:33.110Z"
   },
   {
    "duration": 385,
    "start_time": "2024-06-20T14:23:33.409Z"
   },
   {
    "duration": 5,
    "start_time": "2024-06-20T14:23:33.795Z"
   },
   {
    "duration": 14,
    "start_time": "2024-06-20T14:23:33.802Z"
   },
   {
    "duration": 8,
    "start_time": "2024-06-20T14:23:33.817Z"
   },
   {
    "duration": 23,
    "start_time": "2024-06-20T14:23:33.827Z"
   },
   {
    "duration": 18,
    "start_time": "2024-06-20T14:23:33.852Z"
   },
   {
    "duration": 23,
    "start_time": "2024-06-20T14:23:33.872Z"
   },
   {
    "duration": 9,
    "start_time": "2024-06-20T14:23:33.897Z"
   },
   {
    "duration": 316,
    "start_time": "2024-06-20T14:23:33.908Z"
   },
   {
    "duration": 162,
    "start_time": "2024-06-20T14:23:34.225Z"
   },
   {
    "duration": 300,
    "start_time": "2024-06-20T14:23:34.389Z"
   },
   {
    "duration": 309,
    "start_time": "2024-06-20T14:23:34.690Z"
   },
   {
    "duration": 9,
    "start_time": "2024-06-20T14:23:35.001Z"
   },
   {
    "duration": 6,
    "start_time": "2024-06-20T14:23:35.011Z"
   },
   {
    "duration": 14,
    "start_time": "2024-06-20T14:23:35.018Z"
   },
   {
    "duration": 9,
    "start_time": "2024-06-20T14:23:35.033Z"
   },
   {
    "duration": 5,
    "start_time": "2024-06-20T14:23:35.044Z"
   },
   {
    "duration": 15,
    "start_time": "2024-06-20T14:23:35.051Z"
   },
   {
    "duration": 16,
    "start_time": "2024-06-20T14:23:35.067Z"
   },
   {
    "duration": 8,
    "start_time": "2024-06-20T14:23:35.084Z"
   },
   {
    "duration": 12,
    "start_time": "2024-06-20T14:23:35.093Z"
   },
   {
    "duration": 18,
    "start_time": "2024-06-20T14:23:35.107Z"
   },
   {
    "duration": 9,
    "start_time": "2024-06-20T14:23:35.126Z"
   },
   {
    "duration": 7,
    "start_time": "2024-06-20T14:23:35.136Z"
   },
   {
    "duration": 7,
    "start_time": "2024-06-20T14:23:35.144Z"
   },
   {
    "duration": 1204,
    "start_time": "2024-06-20T14:23:35.152Z"
   },
   {
    "duration": 10,
    "start_time": "2024-06-20T14:23:36.357Z"
   },
   {
    "duration": 25,
    "start_time": "2024-06-20T14:23:36.369Z"
   },
   {
    "duration": 7,
    "start_time": "2024-06-20T14:23:36.396Z"
   },
   {
    "duration": 8,
    "start_time": "2024-06-20T14:23:36.405Z"
   },
   {
    "duration": 29,
    "start_time": "2024-06-20T14:23:36.415Z"
   },
   {
    "duration": 5,
    "start_time": "2024-06-20T14:23:36.446Z"
   },
   {
    "duration": 15,
    "start_time": "2024-06-20T14:23:36.453Z"
   },
   {
    "duration": 3,
    "start_time": "2024-06-20T14:23:36.469Z"
   },
   {
    "duration": 8,
    "start_time": "2024-06-20T14:23:36.474Z"
   },
   {
    "duration": 4,
    "start_time": "2024-06-20T14:23:36.484Z"
   },
   {
    "duration": 6,
    "start_time": "2024-06-20T14:23:36.490Z"
   },
   {
    "duration": 22,
    "start_time": "2024-06-20T14:23:36.497Z"
   },
   {
    "duration": 3,
    "start_time": "2024-06-20T14:23:36.521Z"
   },
   {
    "duration": 18,
    "start_time": "2024-06-20T14:23:36.526Z"
   },
   {
    "duration": 8,
    "start_time": "2024-06-20T14:23:36.545Z"
   },
   {
    "duration": 6,
    "start_time": "2024-06-20T14:23:36.555Z"
   },
   {
    "duration": 11,
    "start_time": "2024-06-20T14:23:36.562Z"
   },
   {
    "duration": 14,
    "start_time": "2024-06-20T14:23:36.574Z"
   },
   {
    "duration": 11,
    "start_time": "2024-06-20T14:23:36.590Z"
   },
   {
    "duration": 22,
    "start_time": "2024-06-20T14:23:36.606Z"
   },
   {
    "duration": 4,
    "start_time": "2024-06-20T14:23:36.629Z"
   },
   {
    "duration": 5,
    "start_time": "2024-06-20T14:23:36.635Z"
   },
   {
    "duration": 136,
    "start_time": "2024-06-20T14:23:36.641Z"
   },
   {
    "duration": 1911,
    "start_time": "2024-06-20T14:23:36.781Z"
   },
   {
    "duration": 222,
    "start_time": "2024-06-20T14:23:38.693Z"
   },
   {
    "duration": 1235,
    "start_time": "2024-06-22T15:25:07.850Z"
   },
   {
    "duration": 325,
    "start_time": "2024-06-22T15:25:09.087Z"
   },
   {
    "duration": 11,
    "start_time": "2024-06-22T15:25:09.414Z"
   },
   {
    "duration": 9,
    "start_time": "2024-06-22T15:25:09.427Z"
   },
   {
    "duration": 5,
    "start_time": "2024-06-22T15:25:09.438Z"
   },
   {
    "duration": 23,
    "start_time": "2024-06-22T15:25:09.445Z"
   },
   {
    "duration": 9,
    "start_time": "2024-06-22T15:25:09.469Z"
   },
   {
    "duration": 15,
    "start_time": "2024-06-22T15:25:09.479Z"
   },
   {
    "duration": 6,
    "start_time": "2024-06-22T15:25:09.495Z"
   },
   {
    "duration": 5,
    "start_time": "2024-06-22T15:25:09.503Z"
   },
   {
    "duration": 29,
    "start_time": "2024-06-22T15:25:09.510Z"
   },
   {
    "duration": 41,
    "start_time": "2024-06-22T15:25:09.540Z"
   },
   {
    "duration": 9,
    "start_time": "2024-06-22T15:25:09.582Z"
   },
   {
    "duration": 6,
    "start_time": "2024-06-22T15:25:09.592Z"
   },
   {
    "duration": 16,
    "start_time": "2024-06-22T15:25:09.600Z"
   },
   {
    "duration": 21,
    "start_time": "2024-06-22T15:25:09.617Z"
   },
   {
    "duration": 17,
    "start_time": "2024-06-22T15:25:09.639Z"
   },
   {
    "duration": 18,
    "start_time": "2024-06-22T15:25:09.657Z"
   },
   {
    "duration": 5,
    "start_time": "2024-06-22T15:25:09.676Z"
   },
   {
    "duration": 3,
    "start_time": "2024-06-22T15:25:09.683Z"
   },
   {
    "duration": 5,
    "start_time": "2024-06-22T15:25:09.687Z"
   },
   {
    "duration": 11,
    "start_time": "2024-06-22T15:25:09.693Z"
   },
   {
    "duration": 6,
    "start_time": "2024-06-22T15:25:09.705Z"
   },
   {
    "duration": 166,
    "start_time": "2024-06-22T15:25:09.712Z"
   },
   {
    "duration": 4,
    "start_time": "2024-06-22T15:25:09.880Z"
   },
   {
    "duration": 176,
    "start_time": "2024-06-22T15:25:09.886Z"
   },
   {
    "duration": 246,
    "start_time": "2024-06-22T15:25:10.064Z"
   },
   {
    "duration": 115,
    "start_time": "2024-06-22T15:25:10.320Z"
   },
   {
    "duration": 5,
    "start_time": "2024-06-22T15:25:10.436Z"
   },
   {
    "duration": 4,
    "start_time": "2024-06-22T15:25:10.442Z"
   },
   {
    "duration": 4,
    "start_time": "2024-06-22T15:25:10.448Z"
   },
   {
    "duration": 160,
    "start_time": "2024-06-22T15:25:10.453Z"
   },
   {
    "duration": 286,
    "start_time": "2024-06-22T15:25:10.614Z"
   },
   {
    "duration": 232,
    "start_time": "2024-06-22T15:25:10.901Z"
   },
   {
    "duration": 137,
    "start_time": "2024-06-22T15:25:11.135Z"
   },
   {
    "duration": 255,
    "start_time": "2024-06-22T15:25:11.274Z"
   },
   {
    "duration": 242,
    "start_time": "2024-06-22T15:25:11.531Z"
   },
   {
    "duration": 3,
    "start_time": "2024-06-22T15:25:11.774Z"
   },
   {
    "duration": 7,
    "start_time": "2024-06-22T15:25:11.779Z"
   },
   {
    "duration": 11,
    "start_time": "2024-06-22T15:25:11.787Z"
   },
   {
    "duration": 7,
    "start_time": "2024-06-22T15:25:11.799Z"
   },
   {
    "duration": 243,
    "start_time": "2024-06-22T15:25:11.820Z"
   },
   {
    "duration": 138,
    "start_time": "2024-06-22T15:25:12.065Z"
   },
   {
    "duration": 290,
    "start_time": "2024-06-22T15:25:12.204Z"
   },
   {
    "duration": 273,
    "start_time": "2024-06-22T15:25:12.496Z"
   },
   {
    "duration": 8,
    "start_time": "2024-06-22T15:25:12.770Z"
   },
   {
    "duration": 18,
    "start_time": "2024-06-22T15:25:12.779Z"
   },
   {
    "duration": 4,
    "start_time": "2024-06-22T15:25:12.798Z"
   },
   {
    "duration": 17,
    "start_time": "2024-06-22T15:25:12.804Z"
   },
   {
    "duration": 8,
    "start_time": "2024-06-22T15:25:12.823Z"
   },
   {
    "duration": 184,
    "start_time": "2024-06-22T15:25:12.832Z"
   },
   {
    "duration": 5,
    "start_time": "2024-06-22T15:25:13.017Z"
   },
   {
    "duration": 16,
    "start_time": "2024-06-22T15:25:13.024Z"
   },
   {
    "duration": 14,
    "start_time": "2024-06-22T15:25:13.042Z"
   },
   {
    "duration": 19,
    "start_time": "2024-06-22T15:25:13.058Z"
   },
   {
    "duration": 7,
    "start_time": "2024-06-22T15:25:13.079Z"
   },
   {
    "duration": 15,
    "start_time": "2024-06-22T15:25:13.088Z"
   },
   {
    "duration": 16,
    "start_time": "2024-06-22T15:25:13.125Z"
   },
   {
    "duration": 4,
    "start_time": "2024-06-22T15:25:13.142Z"
   },
   {
    "duration": 762,
    "start_time": "2024-06-22T15:25:13.148Z"
   },
   {
    "duration": 23,
    "start_time": "2024-06-22T15:25:13.911Z"
   },
   {
    "duration": 19,
    "start_time": "2024-06-22T15:25:13.936Z"
   },
   {
    "duration": 7,
    "start_time": "2024-06-22T15:25:13.957Z"
   },
   {
    "duration": 5,
    "start_time": "2024-06-22T15:25:13.966Z"
   },
   {
    "duration": 6,
    "start_time": "2024-06-22T15:25:13.972Z"
   },
   {
    "duration": 22,
    "start_time": "2024-06-22T15:25:13.979Z"
   },
   {
    "duration": 31,
    "start_time": "2024-06-22T15:25:14.002Z"
   },
   {
    "duration": 10,
    "start_time": "2024-06-22T15:25:14.035Z"
   },
   {
    "duration": 86,
    "start_time": "2024-06-22T15:25:14.047Z"
   },
   {
    "duration": 8,
    "start_time": "2024-06-22T15:25:14.135Z"
   },
   {
    "duration": 4,
    "start_time": "2024-06-22T15:25:14.144Z"
   },
   {
    "duration": 11,
    "start_time": "2024-06-22T15:25:14.149Z"
   },
   {
    "duration": 9,
    "start_time": "2024-06-22T15:25:14.162Z"
   },
   {
    "duration": 3,
    "start_time": "2024-06-22T15:25:14.173Z"
   },
   {
    "duration": 5,
    "start_time": "2024-06-22T15:25:14.177Z"
   },
   {
    "duration": 4,
    "start_time": "2024-06-22T15:25:14.183Z"
   },
   {
    "duration": 3,
    "start_time": "2024-06-22T15:25:14.188Z"
   },
   {
    "duration": 4,
    "start_time": "2024-06-22T15:25:14.193Z"
   },
   {
    "duration": 3,
    "start_time": "2024-06-22T15:25:14.221Z"
   },
   {
    "duration": 13,
    "start_time": "2024-06-22T15:25:14.226Z"
   },
   {
    "duration": 9,
    "start_time": "2024-06-22T15:25:14.241Z"
   },
   {
    "duration": 2,
    "start_time": "2024-06-22T15:25:14.256Z"
   },
   {
    "duration": 11,
    "start_time": "2024-06-22T15:25:14.259Z"
   },
   {
    "duration": 10,
    "start_time": "2024-06-22T15:25:14.271Z"
   },
   {
    "duration": 139,
    "start_time": "2024-06-22T15:25:14.283Z"
   },
   {
    "duration": 1561,
    "start_time": "2024-06-22T15:25:14.424Z"
   },
   {
    "duration": 185,
    "start_time": "2024-06-22T15:25:15.987Z"
   },
   {
    "duration": 1323,
    "start_time": "2024-06-22T16:51:01.200Z"
   },
   {
    "duration": 343,
    "start_time": "2024-06-22T16:51:02.525Z"
   },
   {
    "duration": 16,
    "start_time": "2024-06-22T16:51:02.869Z"
   },
   {
    "duration": 12,
    "start_time": "2024-06-22T16:51:02.888Z"
   },
   {
    "duration": 10,
    "start_time": "2024-06-22T16:51:02.902Z"
   },
   {
    "duration": 12,
    "start_time": "2024-06-22T16:51:02.914Z"
   },
   {
    "duration": 12,
    "start_time": "2024-06-22T16:51:02.928Z"
   },
   {
    "duration": 11,
    "start_time": "2024-06-22T16:51:02.955Z"
   },
   {
    "duration": 11,
    "start_time": "2024-06-22T16:51:02.968Z"
   },
   {
    "duration": 6,
    "start_time": "2024-06-22T16:51:02.982Z"
   },
   {
    "duration": 26,
    "start_time": "2024-06-22T16:51:02.990Z"
   },
   {
    "duration": 18,
    "start_time": "2024-06-22T16:51:03.018Z"
   },
   {
    "duration": 19,
    "start_time": "2024-06-22T16:51:03.038Z"
   },
   {
    "duration": 8,
    "start_time": "2024-06-22T16:51:03.059Z"
   },
   {
    "duration": 4,
    "start_time": "2024-06-22T16:51:03.068Z"
   },
   {
    "duration": 8,
    "start_time": "2024-06-22T16:51:03.074Z"
   },
   {
    "duration": 9,
    "start_time": "2024-06-22T16:51:03.083Z"
   },
   {
    "duration": 15,
    "start_time": "2024-06-22T16:51:03.094Z"
   },
   {
    "duration": 50,
    "start_time": "2024-06-22T16:51:03.111Z"
   },
   {
    "duration": 6,
    "start_time": "2024-06-22T16:51:03.163Z"
   },
   {
    "duration": 12,
    "start_time": "2024-06-22T16:51:03.170Z"
   },
   {
    "duration": 8,
    "start_time": "2024-06-22T16:51:03.184Z"
   },
   {
    "duration": 6,
    "start_time": "2024-06-22T16:51:03.193Z"
   },
   {
    "duration": 231,
    "start_time": "2024-06-22T16:51:03.201Z"
   },
   {
    "duration": 6,
    "start_time": "2024-06-22T16:51:03.434Z"
   },
   {
    "duration": 220,
    "start_time": "2024-06-22T16:51:03.443Z"
   },
   {
    "duration": 358,
    "start_time": "2024-06-22T16:51:03.665Z"
   },
   {
    "duration": 199,
    "start_time": "2024-06-22T16:51:04.030Z"
   },
   {
    "duration": 5,
    "start_time": "2024-06-22T16:51:04.231Z"
   },
   {
    "duration": 48,
    "start_time": "2024-06-22T16:51:04.238Z"
   },
   {
    "duration": 23,
    "start_time": "2024-06-22T16:51:04.288Z"
   },
   {
    "duration": 212,
    "start_time": "2024-06-22T16:51:04.313Z"
   },
   {
    "duration": 422,
    "start_time": "2024-06-22T16:51:04.527Z"
   },
   {
    "duration": 352,
    "start_time": "2024-06-22T16:51:04.955Z"
   },
   {
    "duration": 177,
    "start_time": "2024-06-22T16:51:05.309Z"
   },
   {
    "duration": 326,
    "start_time": "2024-06-22T16:51:05.488Z"
   },
   {
    "duration": 400,
    "start_time": "2024-06-22T16:51:05.817Z"
   },
   {
    "duration": 7,
    "start_time": "2024-06-22T16:51:06.220Z"
   },
   {
    "duration": 31,
    "start_time": "2024-06-22T16:51:06.230Z"
   },
   {
    "duration": 21,
    "start_time": "2024-06-22T16:51:06.263Z"
   },
   {
    "duration": 10,
    "start_time": "2024-06-22T16:51:06.286Z"
   },
   {
    "duration": 397,
    "start_time": "2024-06-22T16:51:06.298Z"
   },
   {
    "duration": 181,
    "start_time": "2024-06-22T16:51:06.698Z"
   },
   {
    "duration": 430,
    "start_time": "2024-06-22T16:51:06.881Z"
   },
   {
    "duration": 336,
    "start_time": "2024-06-22T16:51:07.313Z"
   },
   {
    "duration": 14,
    "start_time": "2024-06-22T16:51:07.651Z"
   },
   {
    "duration": 6,
    "start_time": "2024-06-22T16:51:07.666Z"
   },
   {
    "duration": 6,
    "start_time": "2024-06-22T16:51:07.674Z"
   },
   {
    "duration": 11,
    "start_time": "2024-06-22T16:51:07.682Z"
   },
   {
    "duration": 13,
    "start_time": "2024-06-22T16:51:07.696Z"
   },
   {
    "duration": 304,
    "start_time": "2024-06-22T16:51:07.711Z"
   },
   {
    "duration": 4,
    "start_time": "2024-06-22T16:51:08.017Z"
   },
   {
    "duration": 32,
    "start_time": "2024-06-22T16:51:08.023Z"
   },
   {
    "duration": 13,
    "start_time": "2024-06-22T16:51:08.057Z"
   },
   {
    "duration": 8,
    "start_time": "2024-06-22T16:51:08.072Z"
   },
   {
    "duration": 21,
    "start_time": "2024-06-22T16:51:08.081Z"
   },
   {
    "duration": 24,
    "start_time": "2024-06-22T16:51:08.103Z"
   },
   {
    "duration": 35,
    "start_time": "2024-06-22T16:51:08.128Z"
   },
   {
    "duration": 5,
    "start_time": "2024-06-22T16:51:08.165Z"
   },
   {
    "duration": 1062,
    "start_time": "2024-06-22T16:51:08.172Z"
   },
   {
    "duration": 29,
    "start_time": "2024-06-22T16:51:09.236Z"
   },
   {
    "duration": 20,
    "start_time": "2024-06-22T16:51:09.267Z"
   },
   {
    "duration": 7,
    "start_time": "2024-06-22T16:51:09.289Z"
   },
   {
    "duration": 9,
    "start_time": "2024-06-22T16:51:09.298Z"
   },
   {
    "duration": 18,
    "start_time": "2024-06-22T16:51:09.308Z"
   },
   {
    "duration": 32,
    "start_time": "2024-06-22T16:51:09.328Z"
   },
   {
    "duration": 19,
    "start_time": "2024-06-22T16:51:09.362Z"
   },
   {
    "duration": 13,
    "start_time": "2024-06-22T16:51:09.383Z"
   },
   {
    "duration": 5,
    "start_time": "2024-06-22T16:51:09.397Z"
   },
   {
    "duration": 9,
    "start_time": "2024-06-22T16:51:09.404Z"
   },
   {
    "duration": 40,
    "start_time": "2024-06-22T16:51:09.415Z"
   },
   {
    "duration": 18,
    "start_time": "2024-06-22T16:51:09.458Z"
   },
   {
    "duration": 11,
    "start_time": "2024-06-22T16:51:09.479Z"
   },
   {
    "duration": 6,
    "start_time": "2024-06-22T16:51:09.492Z"
   },
   {
    "duration": 8,
    "start_time": "2024-06-22T16:51:09.499Z"
   },
   {
    "duration": 10,
    "start_time": "2024-06-22T16:51:09.509Z"
   },
   {
    "duration": 13,
    "start_time": "2024-06-22T16:51:09.521Z"
   },
   {
    "duration": 21,
    "start_time": "2024-06-22T16:51:09.536Z"
   },
   {
    "duration": 5,
    "start_time": "2024-06-22T16:51:09.559Z"
   },
   {
    "duration": 14,
    "start_time": "2024-06-22T16:51:09.566Z"
   },
   {
    "duration": 10,
    "start_time": "2024-06-22T16:51:09.582Z"
   },
   {
    "duration": 2,
    "start_time": "2024-06-22T16:51:09.598Z"
   },
   {
    "duration": 11,
    "start_time": "2024-06-22T16:51:09.602Z"
   },
   {
    "duration": 41,
    "start_time": "2024-06-22T16:51:09.615Z"
   },
   {
    "duration": 156,
    "start_time": "2024-06-22T16:51:09.658Z"
   },
   {
    "duration": 2091,
    "start_time": "2024-06-22T16:51:09.816Z"
   },
   {
    "duration": 253,
    "start_time": "2024-06-22T16:51:11.909Z"
   }
  ],
  "kernelspec": {
   "display_name": "Python 3 (ipykernel)",
   "language": "python",
   "name": "python3"
  },
  "language_info": {
   "codemirror_mode": {
    "name": "ipython",
    "version": 3
   },
   "file_extension": ".py",
   "mimetype": "text/x-python",
   "name": "python",
   "nbconvert_exporter": "python",
   "pygments_lexer": "ipython3",
   "version": "3.12.4"
  },
  "toc": {
   "base_numbering": 1,
   "nav_menu": {},
   "number_sections": true,
   "sideBar": true,
   "skip_h1_title": true,
   "title_cell": "Table of Contents",
   "title_sidebar": "Contents",
   "toc_cell": false,
   "toc_position": {
    "height": "calc(100% - 180px)",
    "left": "10px",
    "top": "150px",
    "width": "234.653px"
   },
   "toc_section_display": true,
   "toc_window_display": false
  }
 },
 "nbformat": 4,
 "nbformat_minor": 5
}
